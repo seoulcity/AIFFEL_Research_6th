{
 "cells": [
  {
   "cell_type": "code",
   "execution_count": 52,
   "id": "f2e258fe",
   "metadata": {},
   "outputs": [
    {
     "data": {
      "text/html": [
       "<div>\n",
       "<style scoped>\n",
       "    .dataframe tbody tr th:only-of-type {\n",
       "        vertical-align: middle;\n",
       "    }\n",
       "\n",
       "    .dataframe tbody tr th {\n",
       "        vertical-align: top;\n",
       "    }\n",
       "\n",
       "    .dataframe thead th {\n",
       "        text-align: right;\n",
       "    }\n",
       "</style>\n",
       "<table border=\"1\" class=\"dataframe\">\n",
       "  <thead>\n",
       "    <tr style=\"text-align: right;\">\n",
       "      <th></th>\n",
       "      <th>id</th>\n",
       "      <th>document</th>\n",
       "      <th>label</th>\n",
       "    </tr>\n",
       "  </thead>\n",
       "  <tbody>\n",
       "    <tr>\n",
       "      <th>0</th>\n",
       "      <td>9976970</td>\n",
       "      <td>아 더빙.. 진짜 짜증나네요 목소리</td>\n",
       "      <td>0</td>\n",
       "    </tr>\n",
       "    <tr>\n",
       "      <th>1</th>\n",
       "      <td>3819312</td>\n",
       "      <td>흠...포스터보고 초딩영화줄....오버연기조차 가볍지 않구나</td>\n",
       "      <td>1</td>\n",
       "    </tr>\n",
       "    <tr>\n",
       "      <th>2</th>\n",
       "      <td>10265843</td>\n",
       "      <td>너무재밓었다그래서보는것을추천한다</td>\n",
       "      <td>0</td>\n",
       "    </tr>\n",
       "    <tr>\n",
       "      <th>3</th>\n",
       "      <td>9045019</td>\n",
       "      <td>교도소 이야기구먼 ..솔직히 재미는 없다..평점 조정</td>\n",
       "      <td>0</td>\n",
       "    </tr>\n",
       "    <tr>\n",
       "      <th>4</th>\n",
       "      <td>6483659</td>\n",
       "      <td>사이몬페그의 익살스런 연기가 돋보였던 영화!스파이더맨에서 늙어보이기만 했던 커스틴 ...</td>\n",
       "      <td>1</td>\n",
       "    </tr>\n",
       "  </tbody>\n",
       "</table>\n",
       "</div>"
      ],
      "text/plain": [
       "         id                                           document  label\n",
       "0   9976970                                아 더빙.. 진짜 짜증나네요 목소리      0\n",
       "1   3819312                  흠...포스터보고 초딩영화줄....오버연기조차 가볍지 않구나      1\n",
       "2  10265843                                  너무재밓었다그래서보는것을추천한다      0\n",
       "3   9045019                      교도소 이야기구먼 ..솔직히 재미는 없다..평점 조정      0\n",
       "4   6483659  사이몬페그의 익살스런 연기가 돋보였던 영화!스파이더맨에서 늙어보이기만 했던 커스틴 ...      1"
      ]
     },
     "execution_count": 52,
     "metadata": {},
     "output_type": "execute_result"
    }
   ],
   "source": [
    "import pandas as pd\n",
    "# 데이터를 읽어봅시다.\n",
    "train_data = pd.read_table('~/aiffel/sentiment_classification/data/ratings_train.txt')\n",
    "test_data = pd.read_table('~/aiffel/sentiment_classification/data/ratings_test.txt')\n",
    "\n",
    "\n",
    "train_data.head()"
   ]
  },
  {
   "cell_type": "code",
   "execution_count": 53,
   "id": "f375f31b",
   "metadata": {},
   "outputs": [],
   "source": [
    "from konlpy.tag import Mecab\n",
    "import numpy as np\n",
    "from collections import Counter\n",
    "\n",
    "tokenizer = Mecab()\n",
    "stopwords = ['의','가','이','은','들','는','좀','잘','걍','과','도','를','으로','자','에','와','한','하다']\n",
    "\n",
    "def load_data(train_data, test_data, num_words=10000):\n",
    "    # 1. 데이터의 중복 제거\n",
    "    train_data.drop_duplicates(subset=['document'], inplace=True)\n",
    "    test_data.drop_duplicates(subset=['document'], inplace=True)\n",
    "    \n",
    "    # 2. NaN 결측치 제거\n",
    "    train_data = train_data.dropna(how='any')\n",
    "    test_data = test_data.dropna(how='any')\n",
    "    \n",
    "    # 3. 한국어 토크나이저로 토큰화\n",
    "    X_train = []\n",
    "    for sentence in train_data['document']:\n",
    "        temp_X = tokenizer.morphs(sentence)\n",
    "        X_train.append(temp_X)\n",
    "        \n",
    "    X_test = []\n",
    "    for sentence in test_data['document']:\n",
    "        temp_X = tokenizer.morphs(sentence)\n",
    "        X_test.append(temp_X)\n",
    "    \n",
    "    # 4. 불용어(Stopwords) 제거\n",
    "    X_train = [[word for word in sentence if not word in stopwords] for sentence in X_train]\n",
    "    X_test = [[word for word in sentence if not word in stopwords] for sentence in X_test]\n",
    "    \n",
    "    # 5. 사전word_to_index 구성\n",
    "    words = np.concatenate(X_train).tolist()\n",
    "    counter = Counter(words)\n",
    "    counter = counter.most_common(num_words-4)\n",
    "    vocab = ['<PAD>', '<BOS>', '<UNK>', '<UNUSED>'] + [key for key, _ in counter]\n",
    "    word_to_index = {word: index for index, word in enumerate(vocab)}\n",
    "    \n",
    "    # 6. 텍스트 스트링을 사전 인덱스 스트링으로 변환\n",
    "    def wordlist_to_indexlist(wordlist):\n",
    "        return [word_to_index[word] if word in word_to_index else word_to_index['<UNK>'] for word in wordlist]\n",
    "    \n",
    "    X_train = list(map(wordlist_to_indexlist, X_train))\n",
    "    X_test = list(map(wordlist_to_indexlist, X_test))\n",
    "    \n",
    "    # 7. X_train, y_train, X_test, y_test, word_to_index 리턴\n",
    "    return X_train, np.array(list(train_data['label'])), X_test, np.array(list(test_data['label'])), word_to_index\n",
    "    \n",
    "X_train, y_train, X_test, y_test, word_to_index = load_data(train_data, test_data)"
   ]
  },
  {
   "cell_type": "code",
   "execution_count": 54,
   "id": "50d9993f",
   "metadata": {},
   "outputs": [],
   "source": [
    "index_to_word = {index:word for word, index in word_to_index.items()}"
   ]
  },
  {
   "cell_type": "code",
   "execution_count": 55,
   "id": "d9a462e0",
   "metadata": {},
   "outputs": [],
   "source": [
    "# 문장 1개를 활용할 딕셔너리와 함께 주면, 단어 인덱스 리스트 벡터로 변환해 주는 함수입니다. \n",
    "# 단, 모든 문장은 <BOS>로 시작하는 것으로 합니다. \n",
    "def get_encoded_sentence(sentence, word_to_index):\n",
    "    return [word_to_index['<BOS>']]+[word_to_index[word] if word in word_to_index else word_to_index['<UNK>'] for word in sentence.split()]\n",
    "\n",
    "# 여러 개의 문장 리스트를 한꺼번에 단어 인덱스 리스트 벡터로 encode해 주는 함수입니다. \n",
    "def get_encoded_sentences(sentences, word_to_index):\n",
    "    return [get_encoded_sentence(sentence, word_to_index) for sentence in sentences]\n",
    "\n",
    "# 숫자 벡터로 encode된 문장을 원래대로 decode하는 함수입니다. \n",
    "def get_decoded_sentence(encoded_sentence, index_to_word):\n",
    "    return ' '.join(index_to_word[index] if index in index_to_word else '<UNK>' for index in encoded_sentence[1:])  #[1:]를 통해 <BOS>를 제외\n",
    "\n",
    "# 여러 개의 숫자 벡터로 encode된 문장을 한꺼번에 원래대로 decode하는 함수입니다. \n",
    "def get_decoded_sentences(encoded_sentences, index_to_word):\n",
    "    return [get_decoded_sentence(encoded_sentence, index_to_word) for encoded_sentence in encoded_sentences]"
   ]
  },
  {
   "cell_type": "code",
   "execution_count": 56,
   "id": "65859ded",
   "metadata": {},
   "outputs": [
    {
     "data": {
      "image/png": "[encoded data removed]",
      "text/plain": [
       "<Figure size 864x432 with 1 Axes>"
      ]
     },
     "metadata": {
      "needs_background": "light"
     },
     "output_type": "display_data"
    }
   ],
   "source": [
    "import matplotlib.pyplot as plt\n",
    "\n",
    "# X_train에 포함된 각 시퀀스의 길이를 계산\n",
    "total_data_text = list(X_train) + list(X_test) # 텍스트데이터 전체 문장길이 리스트\n",
    "num_tokens =  np.array([len(tokens) for tokens in total_data_text]) # 배열로 변환하여 토큰 길이 계산\n",
    "\n",
    "# 히스토그램으로 시퀀스 길이 분포를 표시\n",
    "plt.figure(figsize=(12, 6))\n",
    "plt.hist(num_tokens, bins=50, alpha=0.7, color='blue', label='Sequence Lengths')\n",
    "plt.xlabel('Sequence Length')\n",
    "plt.ylabel('Frequency')\n",
    "plt.title('Distribution of Sequence Lengths in x_train')\n",
    "plt.legend()\n",
    "plt.show()\n",
    "\n"
   ]
  },
  {
   "cell_type": "code",
   "execution_count": 57,
   "id": "7162feef",
   "metadata": {},
   "outputs": [
    {
     "name": "stdout",
     "output_type": "stream",
     "text": [
      "문장길이 평균 :  15.96940191154864\n",
      "문장길이 최대 :  116\n",
      "문장길이 표준편차 :  12.843571191092\n",
      "pad_sequences maxlen :  54\n",
      "전체 문장의 0.9720946661956905%가 maxlen 설정값 이내에 포함됩니다. \n"
     ]
    }
   ],
   "source": [
    "print('문장길이 평균 : ', np.mean(num_tokens))\n",
    "print('문장길이 최대 : ', np.max(num_tokens))\n",
    "print('문장길이 표준편차 : ', np.std(num_tokens))\n",
    "\n",
    "max_tokens = np.mean(num_tokens) + 3 * np.std(num_tokens)\n",
    "maxlen = int(max_tokens)\n",
    "print('pad_sequences maxlen : ', maxlen)\n",
    "print(f'전체 문장의 {np.sum(num_tokens < max_tokens) / len(num_tokens)}%가 maxlen 설정값 이내에 포함됩니다. ')"
   ]
  },
  {
   "cell_type": "code",
   "execution_count": 58,
   "id": "bd2109f0",
   "metadata": {},
   "outputs": [],
   "source": [
    "maxlen = 54 # 최대 문장 길이"
   ]
  },
  {
   "cell_type": "code",
   "execution_count": 59,
   "id": "3d1c2825",
   "metadata": {},
   "outputs": [],
   "source": [
    "import tensorflow as tf\n",
    "\n",
    "X_train = tf.keras.preprocessing.sequence.pad_sequences(X_train,\n",
    "                                                        value=0,\n",
    "                                                        padding='post',\n",
    "                                                        maxlen=maxlen)\n",
    "X_test = tf.keras.preprocessing.sequence.pad_sequences(X_test,\n",
    "                                                       value=0,\n",
    "                                                       padding='post',\n",
    "                                                       maxlen=maxlen)\n"
   ]
  },
  {
   "cell_type": "code",
   "execution_count": 60,
   "id": "f657afb5",
   "metadata": {},
   "outputs": [
    {
     "name": "stdout",
     "output_type": "stream",
     "text": [
      "Model: \"sequential_8\"\n",
      "_________________________________________________________________\n",
      "Layer (type)                 Output Shape              Param #   \n",
      "=================================================================\n",
      "embedding_9 (Embedding)      (None, None, 16)          160000    \n",
      "_________________________________________________________________\n",
      "lstm_6 (LSTM)                (None, 4)                 336       \n",
      "_________________________________________________________________\n",
      "dense_12 (Dense)             (None, 8)                 40        \n",
      "_________________________________________________________________\n",
      "dropout_6 (Dropout)          (None, 8)                 0         \n",
      "_________________________________________________________________\n",
      "dense_13 (Dense)             (None, 1)                 9         \n",
      "=================================================================\n",
      "Total params: 160,385\n",
      "Trainable params: 160,385\n",
      "Non-trainable params: 0\n",
      "_________________________________________________________________\n"
     ]
    }
   ],
   "source": [
    "vocab_size = 10000    # 어휘 사전의 크기입니다(10,000개의 단어)\n",
    "word_vector_dim = 16  # 워드 벡터의 차원 수 (변경 가능한 하이퍼파라미터)\n",
    "\n",
    "# model 설계 - RNN 모델\n",
    "model = tf.keras.Sequential()\n",
    "model.add(tf.keras.layers.Embedding(vocab_size, word_vector_dim, input_shape=(None,)))\n",
    "model.add(tf.keras.layers.LSTM(4))   # 차원 수를 4로 줄임으로써 결과가 개선됨\n",
    "model.add(tf.keras.layers.Dense(8, activation='relu'))\n",
    "# model.add(tf.keras.layers.Dense(8, activation='relu', kernel_regularizer=tf.keras.regularizers.l2(0.0001))) # L2 정규화 적용\n",
    "model.add(tf.keras.layers.Dropout(0.7)) # DropOut 적용\n",
    "model.add(tf.keras.layers.Dense(1, activation='sigmoid'))  # 최종 출력은 긍정/부정을 나타내는 1dim 입니다.\n",
    "\n",
    "model.summary()"
   ]
  },
  {
   "cell_type": "code",
   "execution_count": 61,
   "id": "97a4ab85",
   "metadata": {},
   "outputs": [
    {
     "name": "stdout",
     "output_type": "stream",
     "text": [
      "(96182, 54)\n",
      "(96182,)\n"
     ]
    }
   ],
   "source": [
    "# validation set 50000건 분리\n",
    "x_val = X_train[:50000]\n",
    "y_val = y_train[:50000]\n",
    "\n",
    "# validation set을 제외한 나머지 9만여 건\n",
    "partial_x_train = X_train[50000:]\n",
    "partial_y_train = y_train[50000:]\n",
    "\n",
    "print(partial_x_train.shape)\n",
    "print(partial_y_train.shape)"
   ]
  },
  {
   "cell_type": "code",
   "execution_count": 62,
   "id": "a287f55b",
   "metadata": {},
   "outputs": [
    {
     "name": "stdout",
     "output_type": "stream",
     "text": [
      "Epoch 1/20\n",
      "188/188 [==============================] - 3s 9ms/step - loss: 0.6924 - accuracy: 0.5027 - val_loss: 0.6700 - val_accuracy: 0.5705\n",
      "Epoch 2/20\n",
      "188/188 [==============================] - 1s 7ms/step - loss: 0.5700 - accuracy: 0.7266 - val_loss: 0.4461 - val_accuracy: 0.8367\n",
      "Epoch 3/20\n",
      "188/188 [==============================] - 1s 7ms/step - loss: 0.4955 - accuracy: 0.7894 - val_loss: 0.4012 - val_accuracy: 0.8459\n",
      "Epoch 4/20\n",
      "188/188 [==============================] - 1s 7ms/step - loss: 0.4695 - accuracy: 0.7994 - val_loss: 0.3918 - val_accuracy: 0.8468\n",
      "Epoch 5/20\n",
      "188/188 [==============================] - 1s 7ms/step - loss: 0.4526 - accuracy: 0.8036 - val_loss: 0.3894 - val_accuracy: 0.8436\n",
      "Epoch 6/20\n",
      "188/188 [==============================] - 1s 7ms/step - loss: 0.4409 - accuracy: 0.8085 - val_loss: 0.3845 - val_accuracy: 0.8404\n",
      "Epoch 7/20\n",
      "188/188 [==============================] - 1s 7ms/step - loss: 0.4341 - accuracy: 0.8097 - val_loss: 0.3914 - val_accuracy: 0.8454\n",
      "Epoch 8/20\n",
      "188/188 [==============================] - 1s 7ms/step - loss: 0.4259 - accuracy: 0.8120 - val_loss: 0.4030 - val_accuracy: 0.8454\n",
      "Epoch 9/20\n",
      "188/188 [==============================] - 1s 7ms/step - loss: 0.4200 - accuracy: 0.8131 - val_loss: 0.4009 - val_accuracy: 0.8398\n",
      "Epoch 10/20\n",
      "188/188 [==============================] - 1s 7ms/step - loss: 0.4160 - accuracy: 0.8148 - val_loss: 0.4141 - val_accuracy: 0.8377\n",
      "Epoch 11/20\n",
      "188/188 [==============================] - 1s 7ms/step - loss: 0.4077 - accuracy: 0.8178 - val_loss: 0.4166 - val_accuracy: 0.8272\n",
      "Epoch 12/20\n",
      "188/188 [==============================] - 1s 7ms/step - loss: 0.4073 - accuracy: 0.8188 - val_loss: 0.4330 - val_accuracy: 0.8438\n",
      "Epoch 13/20\n",
      "188/188 [==============================] - 1s 7ms/step - loss: 0.3978 - accuracy: 0.8216 - val_loss: 0.4375 - val_accuracy: 0.8409\n",
      "Epoch 14/20\n",
      "188/188 [==============================] - 1s 7ms/step - loss: 0.3905 - accuracy: 0.8268 - val_loss: 0.4365 - val_accuracy: 0.8324\n",
      "Epoch 15/20\n",
      "188/188 [==============================] - 1s 7ms/step - loss: 0.3916 - accuracy: 0.8242 - val_loss: 0.4350 - val_accuracy: 0.8444\n",
      "Epoch 16/20\n",
      "188/188 [==============================] - 1s 7ms/step - loss: 0.3858 - accuracy: 0.8272 - val_loss: 0.4421 - val_accuracy: 0.8385\n"
     ]
    }
   ],
   "source": [
    "model.compile(optimizer='adam',\n",
    "              loss='binary_crossentropy',\n",
    "              metrics=['accuracy'])\n",
    "\n",
    "epochs=20  # 몇 epoch를 훈련하면 좋을지 결과를 보면서 바꾸어 봅시다.\n",
    "early_stopping = tf.keras.callbacks.EarlyStopping(monitor='val_loss', patience=10) # 조기 종료 적용\n",
    "\n",
    "history = model.fit(partial_x_train,\n",
    "                    partial_y_train,\n",
    "                    epochs=epochs,\n",
    "                    batch_size=512,\n",
    "                    validation_data=(x_val, y_val),\n",
    "                    verbose=1,\n",
    "                    callbacks=[early_stopping]) # 조기 종료 콜백 옵션"
   ]
  },
  {
   "cell_type": "code",
   "execution_count": 63,
   "id": "2c8869f6",
   "metadata": {},
   "outputs": [
    {
     "name": "stdout",
     "output_type": "stream",
     "text": [
      "1537/1537 - 3s - loss: 0.4481 - accuracy: 0.8375\n",
      "[0.44809722900390625, 0.8374798893928528]\n"
     ]
    }
   ],
   "source": [
    "# 테스트셋을 통한 모델 평가\n",
    "results = model.evaluate(X_test,  y_test, verbose=2)\n",
    "\n",
    "print(results)"
   ]
  },
  {
   "cell_type": "code",
   "execution_count": 64,
   "id": "7aff2996",
   "metadata": {},
   "outputs": [
    {
     "name": "stdout",
     "output_type": "stream",
     "text": [
      "dict_keys(['loss', 'accuracy', 'val_loss', 'val_accuracy'])\n"
     ]
    }
   ],
   "source": [
    "history_dict = history.history\n",
    "print(history_dict.keys()) # epoch에 따른 그래프를 그려볼 수 있는 항목들"
   ]
  },
  {
   "cell_type": "code",
   "execution_count": 65,
   "id": "ded89277",
   "metadata": {},
   "outputs": [
    {
     "data": {
      "image/png": "[encoded data removed]",
      "text/plain": [
       "<Figure size 432x288 with 1 Axes>"
      ]
     },
     "metadata": {
      "needs_background": "light"
     },
     "output_type": "display_data"
    }
   ],
   "source": [
    "import matplotlib.pyplot as plt\n",
    "\n",
    "acc = history_dict['accuracy']\n",
    "val_acc = history_dict['val_accuracy']\n",
    "loss = history_dict['loss']\n",
    "val_loss = history_dict['val_loss']\n",
    "\n",
    "epochs = range(1, len(acc) + 1)\n",
    "\n",
    "# \"bo\"는 \"파란색 점\"입니다\n",
    "plt.plot(epochs, loss, 'bo', label='Training loss')\n",
    "# b는 \"파란 실선\"입니다\n",
    "plt.plot(epochs, val_loss, 'b', label='Validation loss')\n",
    "plt.title('Training and validation loss')\n",
    "plt.xlabel('Epochs')\n",
    "plt.ylabel('Loss')\n",
    "plt.legend()\n",
    "\n",
    "plt.show()"
   ]
  },
  {
   "cell_type": "code",
   "execution_count": 66,
   "id": "7d9b34bf",
   "metadata": {},
   "outputs": [
    {
     "name": "stdout",
     "output_type": "stream",
     "text": [
      "Model: \"sequential_9\"\n",
      "_________________________________________________________________\n",
      "Layer (type)                 Output Shape              Param #   \n",
      "=================================================================\n",
      "embedding_10 (Embedding)     (None, 54, 16)            160000    \n",
      "_________________________________________________________________\n",
      "conv1d (Conv1D)              (None, 48, 16)            1808      \n",
      "_________________________________________________________________\n",
      "max_pooling1d (MaxPooling1D) (None, 9, 16)             0         \n",
      "_________________________________________________________________\n",
      "conv1d_1 (Conv1D)            (None, 3, 16)             1808      \n",
      "_________________________________________________________________\n",
      "global_max_pooling1d (Global (None, 16)                0         \n",
      "_________________________________________________________________\n",
      "dense_14 (Dense)             (None, 8)                 136       \n",
      "_________________________________________________________________\n",
      "dense_15 (Dense)             (None, 1)                 9         \n",
      "=================================================================\n",
      "Total params: 163,761\n",
      "Trainable params: 163,761\n",
      "Non-trainable params: 0\n",
      "_________________________________________________________________\n"
     ]
    }
   ],
   "source": [
    "from tensorflow.keras.initializers import Constant\n",
    "\n",
    "embedding_matrix = np.random.rand(vocab_size, word_vector_dim)\n",
    "\n",
    "# 모델 구성ㅡ CNN 모델\n",
    "model = tf.keras.Sequential()\n",
    "model.add(tf.keras.layers.Embedding(vocab_size,\n",
    "                                 word_vector_dim,\n",
    "                                 embeddings_initializer=Constant(embedding_matrix),  # 카피한 임베딩을 여기서 활용\n",
    "                                 input_length=maxlen,\n",
    "                                 trainable=True))   # trainable을 True로 주면 Fine-tuning\n",
    "model.add(tf.keras.layers.Conv1D(16, 7, activation='relu'))\n",
    "model.add(tf.keras.layers.MaxPooling1D(5))\n",
    "model.add(tf.keras.layers.Conv1D(16, 7, activation='relu'))\n",
    "model.add(tf.keras.layers.GlobalMaxPooling1D())\n",
    "model.add(tf.keras.layers.Dense(8, activation='relu'))\n",
    "model.add(tf.keras.layers.Dense(1, activation='sigmoid'))\n",
    "\n",
    "model.summary()"
   ]
  },
  {
   "cell_type": "code",
   "execution_count": 51,
   "id": "18653d90",
   "metadata": {},
   "outputs": [
    {
     "name": "stdout",
     "output_type": "stream",
     "text": [
      "Epoch 1/20\n",
      "188/188 [==============================] - 3s 9ms/step - loss: 0.6930 - accuracy: 0.5020 - val_loss: 0.6930 - val_accuracy: 0.5011\n",
      "Epoch 2/20\n",
      "188/188 [==============================] - 1s 6ms/step - loss: 0.6930 - accuracy: 0.5020 - val_loss: 0.6930 - val_accuracy: 0.5011\n",
      "Epoch 3/20\n",
      "188/188 [==============================] - 1s 6ms/step - loss: 0.6930 - accuracy: 0.5002 - val_loss: 0.6930 - val_accuracy: 0.5011\n",
      "Epoch 4/20\n",
      "157/188 [========================>.....] - ETA: 0s - loss: 0.6930 - accuracy: 0.5017"
     ]
    },
    {
     "ename": "KeyboardInterrupt",
     "evalue": "",
     "output_type": "error",
     "traceback": [
      "\u001b[0;31m---------------------------------------------------------------------------\u001b[0m",
      "\u001b[0;31mKeyboardInterrupt\u001b[0m                         Traceback (most recent call last)",
      "\u001b[0;32m/tmp/ipykernel_32/2998580871.py\u001b[0m in \u001b[0;36m<module>\u001b[0;34m\u001b[0m\n\u001b[1;32m      6\u001b[0m \u001b[0mearly_stopping\u001b[0m \u001b[0;34m=\u001b[0m \u001b[0mtf\u001b[0m\u001b[0;34m.\u001b[0m\u001b[0mkeras\u001b[0m\u001b[0;34m.\u001b[0m\u001b[0mcallbacks\u001b[0m\u001b[0;34m.\u001b[0m\u001b[0mEarlyStopping\u001b[0m\u001b[0;34m(\u001b[0m\u001b[0mmonitor\u001b[0m\u001b[0;34m=\u001b[0m\u001b[0;34m'val_loss'\u001b[0m\u001b[0;34m,\u001b[0m \u001b[0mpatience\u001b[0m\u001b[0;34m=\u001b[0m\u001b[0;36m10\u001b[0m\u001b[0;34m)\u001b[0m \u001b[0;31m# 조기 종료 적용\u001b[0m\u001b[0;34m\u001b[0m\u001b[0;34m\u001b[0m\u001b[0m\n\u001b[1;32m      7\u001b[0m \u001b[0;34m\u001b[0m\u001b[0m\n\u001b[0;32m----> 8\u001b[0;31m history = model.fit(partial_x_train,\n\u001b[0m\u001b[1;32m      9\u001b[0m                     \u001b[0mpartial_y_train\u001b[0m\u001b[0;34m,\u001b[0m\u001b[0;34m\u001b[0m\u001b[0;34m\u001b[0m\u001b[0m\n\u001b[1;32m     10\u001b[0m                     \u001b[0mepochs\u001b[0m\u001b[0;34m=\u001b[0m\u001b[0mepochs\u001b[0m\u001b[0;34m,\u001b[0m\u001b[0;34m\u001b[0m\u001b[0;34m\u001b[0m\u001b[0m\n",
      "\u001b[0;32m/opt/conda/lib/python3.9/site-packages/keras/engine/training.py\u001b[0m in \u001b[0;36mfit\u001b[0;34m(self, x, y, batch_size, epochs, verbose, callbacks, validation_split, validation_data, shuffle, class_weight, sample_weight, initial_epoch, steps_per_epoch, validation_steps, validation_batch_size, validation_freq, max_queue_size, workers, use_multiprocessing)\u001b[0m\n\u001b[1;32m   1182\u001b[0m                 _r=1):\n\u001b[1;32m   1183\u001b[0m               \u001b[0mcallbacks\u001b[0m\u001b[0;34m.\u001b[0m\u001b[0mon_train_batch_begin\u001b[0m\u001b[0;34m(\u001b[0m\u001b[0mstep\u001b[0m\u001b[0;34m)\u001b[0m\u001b[0;34m\u001b[0m\u001b[0;34m\u001b[0m\u001b[0m\n\u001b[0;32m-> 1184\u001b[0;31m               \u001b[0mtmp_logs\u001b[0m \u001b[0;34m=\u001b[0m \u001b[0mself\u001b[0m\u001b[0;34m.\u001b[0m\u001b[0mtrain_function\u001b[0m\u001b[0;34m(\u001b[0m\u001b[0miterator\u001b[0m\u001b[0;34m)\u001b[0m\u001b[0;34m\u001b[0m\u001b[0;34m\u001b[0m\u001b[0m\n\u001b[0m\u001b[1;32m   1185\u001b[0m               \u001b[0;32mif\u001b[0m \u001b[0mdata_handler\u001b[0m\u001b[0;34m.\u001b[0m\u001b[0mshould_sync\u001b[0m\u001b[0;34m:\u001b[0m\u001b[0;34m\u001b[0m\u001b[0;34m\u001b[0m\u001b[0m\n\u001b[1;32m   1186\u001b[0m                 \u001b[0mcontext\u001b[0m\u001b[0;34m.\u001b[0m\u001b[0masync_wait\u001b[0m\u001b[0;34m(\u001b[0m\u001b[0;34m)\u001b[0m\u001b[0;34m\u001b[0m\u001b[0;34m\u001b[0m\u001b[0m\n",
      "\u001b[0;32m/opt/conda/lib/python3.9/site-packages/tensorflow/python/eager/def_function.py\u001b[0m in \u001b[0;36m__call__\u001b[0;34m(self, *args, **kwds)\u001b[0m\n\u001b[1;32m    883\u001b[0m \u001b[0;34m\u001b[0m\u001b[0m\n\u001b[1;32m    884\u001b[0m       \u001b[0;32mwith\u001b[0m \u001b[0mOptionalXlaContext\u001b[0m\u001b[0;34m(\u001b[0m\u001b[0mself\u001b[0m\u001b[0;34m.\u001b[0m\u001b[0m_jit_compile\u001b[0m\u001b[0;34m)\u001b[0m\u001b[0;34m:\u001b[0m\u001b[0;34m\u001b[0m\u001b[0;34m\u001b[0m\u001b[0m\n\u001b[0;32m--> 885\u001b[0;31m         \u001b[0mresult\u001b[0m \u001b[0;34m=\u001b[0m \u001b[0mself\u001b[0m\u001b[0;34m.\u001b[0m\u001b[0m_call\u001b[0m\u001b[0;34m(\u001b[0m\u001b[0;34m*\u001b[0m\u001b[0margs\u001b[0m\u001b[0;34m,\u001b[0m \u001b[0;34m**\u001b[0m\u001b[0mkwds\u001b[0m\u001b[0;34m)\u001b[0m\u001b[0;34m\u001b[0m\u001b[0;34m\u001b[0m\u001b[0m\n\u001b[0m\u001b[1;32m    886\u001b[0m \u001b[0;34m\u001b[0m\u001b[0m\n\u001b[1;32m    887\u001b[0m       \u001b[0mnew_tracing_count\u001b[0m \u001b[0;34m=\u001b[0m \u001b[0mself\u001b[0m\u001b[0;34m.\u001b[0m\u001b[0mexperimental_get_tracing_count\u001b[0m\u001b[0;34m(\u001b[0m\u001b[0;34m)\u001b[0m\u001b[0;34m\u001b[0m\u001b[0;34m\u001b[0m\u001b[0m\n",
      "\u001b[0;32m/opt/conda/lib/python3.9/site-packages/tensorflow/python/eager/def_function.py\u001b[0m in \u001b[0;36m_call\u001b[0;34m(self, *args, **kwds)\u001b[0m\n\u001b[1;32m    915\u001b[0m       \u001b[0;31m# In this case we have created variables on the first call, so we run the\u001b[0m\u001b[0;34m\u001b[0m\u001b[0;34m\u001b[0m\u001b[0m\n\u001b[1;32m    916\u001b[0m       \u001b[0;31m# defunned version which is guaranteed to never create variables.\u001b[0m\u001b[0;34m\u001b[0m\u001b[0;34m\u001b[0m\u001b[0m\n\u001b[0;32m--> 917\u001b[0;31m       \u001b[0;32mreturn\u001b[0m \u001b[0mself\u001b[0m\u001b[0;34m.\u001b[0m\u001b[0m_stateless_fn\u001b[0m\u001b[0;34m(\u001b[0m\u001b[0;34m*\u001b[0m\u001b[0margs\u001b[0m\u001b[0;34m,\u001b[0m \u001b[0;34m**\u001b[0m\u001b[0mkwds\u001b[0m\u001b[0;34m)\u001b[0m  \u001b[0;31m# pylint: disable=not-callable\u001b[0m\u001b[0;34m\u001b[0m\u001b[0;34m\u001b[0m\u001b[0m\n\u001b[0m\u001b[1;32m    918\u001b[0m     \u001b[0;32melif\u001b[0m \u001b[0mself\u001b[0m\u001b[0;34m.\u001b[0m\u001b[0m_stateful_fn\u001b[0m \u001b[0;32mis\u001b[0m \u001b[0;32mnot\u001b[0m \u001b[0;32mNone\u001b[0m\u001b[0;34m:\u001b[0m\u001b[0;34m\u001b[0m\u001b[0;34m\u001b[0m\u001b[0m\n\u001b[1;32m    919\u001b[0m       \u001b[0;31m# Release the lock early so that multiple threads can perform the call\u001b[0m\u001b[0;34m\u001b[0m\u001b[0;34m\u001b[0m\u001b[0m\n",
      "\u001b[0;32m/opt/conda/lib/python3.9/site-packages/tensorflow/python/eager/function.py\u001b[0m in \u001b[0;36m__call__\u001b[0;34m(self, *args, **kwargs)\u001b[0m\n\u001b[1;32m   3037\u001b[0m       (graph_function,\n\u001b[1;32m   3038\u001b[0m        filtered_flat_args) = self._maybe_define_function(args, kwargs)\n\u001b[0;32m-> 3039\u001b[0;31m     return graph_function._call_flat(\n\u001b[0m\u001b[1;32m   3040\u001b[0m         filtered_flat_args, captured_inputs=graph_function.captured_inputs)  # pylint: disable=protected-access\n\u001b[1;32m   3041\u001b[0m \u001b[0;34m\u001b[0m\u001b[0m\n",
      "\u001b[0;32m/opt/conda/lib/python3.9/site-packages/tensorflow/python/eager/function.py\u001b[0m in \u001b[0;36m_call_flat\u001b[0;34m(self, args, captured_inputs, cancellation_manager)\u001b[0m\n\u001b[1;32m   1961\u001b[0m         and executing_eagerly):\n\u001b[1;32m   1962\u001b[0m       \u001b[0;31m# No tape is watching; skip to running the function.\u001b[0m\u001b[0;34m\u001b[0m\u001b[0;34m\u001b[0m\u001b[0m\n\u001b[0;32m-> 1963\u001b[0;31m       return self._build_call_outputs(self._inference_function.call(\n\u001b[0m\u001b[1;32m   1964\u001b[0m           ctx, args, cancellation_manager=cancellation_manager))\n\u001b[1;32m   1965\u001b[0m     forward_backward = self._select_forward_and_backward_functions(\n",
      "\u001b[0;32m/opt/conda/lib/python3.9/site-packages/tensorflow/python/eager/function.py\u001b[0m in \u001b[0;36mcall\u001b[0;34m(self, ctx, args, cancellation_manager)\u001b[0m\n\u001b[1;32m    589\u001b[0m       \u001b[0;32mwith\u001b[0m \u001b[0m_InterpolateFunctionError\u001b[0m\u001b[0;34m(\u001b[0m\u001b[0mself\u001b[0m\u001b[0;34m)\u001b[0m\u001b[0;34m:\u001b[0m\u001b[0;34m\u001b[0m\u001b[0;34m\u001b[0m\u001b[0m\n\u001b[1;32m    590\u001b[0m         \u001b[0;32mif\u001b[0m \u001b[0mcancellation_manager\u001b[0m \u001b[0;32mis\u001b[0m \u001b[0;32mNone\u001b[0m\u001b[0;34m:\u001b[0m\u001b[0;34m\u001b[0m\u001b[0;34m\u001b[0m\u001b[0m\n\u001b[0;32m--> 591\u001b[0;31m           outputs = execute.execute(\n\u001b[0m\u001b[1;32m    592\u001b[0m               \u001b[0mstr\u001b[0m\u001b[0;34m(\u001b[0m\u001b[0mself\u001b[0m\u001b[0;34m.\u001b[0m\u001b[0msignature\u001b[0m\u001b[0;34m.\u001b[0m\u001b[0mname\u001b[0m\u001b[0;34m)\u001b[0m\u001b[0;34m,\u001b[0m\u001b[0;34m\u001b[0m\u001b[0;34m\u001b[0m\u001b[0m\n\u001b[1;32m    593\u001b[0m               \u001b[0mnum_outputs\u001b[0m\u001b[0;34m=\u001b[0m\u001b[0mself\u001b[0m\u001b[0;34m.\u001b[0m\u001b[0m_num_outputs\u001b[0m\u001b[0;34m,\u001b[0m\u001b[0;34m\u001b[0m\u001b[0;34m\u001b[0m\u001b[0m\n",
      "\u001b[0;32m/opt/conda/lib/python3.9/site-packages/tensorflow/python/eager/execute.py\u001b[0m in \u001b[0;36mquick_execute\u001b[0;34m(op_name, num_outputs, inputs, attrs, ctx, name)\u001b[0m\n\u001b[1;32m     57\u001b[0m   \u001b[0;32mtry\u001b[0m\u001b[0;34m:\u001b[0m\u001b[0;34m\u001b[0m\u001b[0;34m\u001b[0m\u001b[0m\n\u001b[1;32m     58\u001b[0m     \u001b[0mctx\u001b[0m\u001b[0;34m.\u001b[0m\u001b[0mensure_initialized\u001b[0m\u001b[0;34m(\u001b[0m\u001b[0;34m)\u001b[0m\u001b[0;34m\u001b[0m\u001b[0;34m\u001b[0m\u001b[0m\n\u001b[0;32m---> 59\u001b[0;31m     tensors = pywrap_tfe.TFE_Py_Execute(ctx._handle, device_name, op_name,\n\u001b[0m\u001b[1;32m     60\u001b[0m                                         inputs, attrs, num_outputs)\n\u001b[1;32m     61\u001b[0m   \u001b[0;32mexcept\u001b[0m \u001b[0mcore\u001b[0m\u001b[0;34m.\u001b[0m\u001b[0m_NotOkStatusException\u001b[0m \u001b[0;32mas\u001b[0m \u001b[0me\u001b[0m\u001b[0;34m:\u001b[0m\u001b[0;34m\u001b[0m\u001b[0;34m\u001b[0m\u001b[0m\n",
      "\u001b[0;31mKeyboardInterrupt\u001b[0m: "
     ]
    }
   ],
   "source": [
    "model.compile(optimizer='adam',\n",
    "              loss='binary_crossentropy',\n",
    "              metrics=['accuracy'])\n",
    "\n",
    "epochs=20  # 몇 epoch를 훈련하면 좋을지 결과를 보면서 바꾸어 봅시다.\n",
    "early_stopping = tf.keras.callbacks.EarlyStopping(monitor='val_loss', patience=10) # 조기 종료 적용\n",
    "\n",
    "history = model.fit(partial_x_train,\n",
    "                    partial_y_train,\n",
    "                    epochs=epochs,\n",
    "                    batch_size=512,\n",
    "                    validation_data=(x_val, y_val),\n",
    "                    verbose=1,\n",
    "                    callbacks=[early_stopping]) # 조기 종료 콜백 옵션"
   ]
  },
  {
   "cell_type": "code",
   "execution_count": 50,
   "id": "a17070af",
   "metadata": {},
   "outputs": [
    {
     "name": "stdout",
     "output_type": "stream",
     "text": [
      "dict_keys(['loss', 'accuracy', 'val_loss', 'val_accuracy'])\n"
     ]
    },
    {
     "data": {
      "image/png": "[encoded data removed]",
      "text/plain": [
       "<Figure size 432x288 with 1 Axes>"
      ]
     },
     "metadata": {
      "needs_background": "light"
     },
     "output_type": "display_data"
    }
   ],
   "source": [
    "history_dict = history.history\n",
    "print(history_dict.keys()) # epoch에 따른 그래프를 그려볼 수 있는 항목들\n",
    "\n",
    "acc = history_dict['accuracy']\n",
    "val_acc = history_dict['val_accuracy']\n",
    "loss = history_dict['loss']\n",
    "val_loss = history_dict['val_loss']\n",
    "\n",
    "epochs = range(1, len(acc) + 1)\n",
    "\n",
    "# \"bo\"는 \"파란색 점\"입니다\n",
    "plt.plot(epochs, loss, 'bo', label='Training loss')\n",
    "# b는 \"파란 실선\"입니다\n",
    "plt.plot(epochs, val_loss, 'b', label='Validation loss')\n",
    "plt.title('Training and validation loss')\n",
    "plt.xlabel('Epochs')\n",
    "plt.ylabel('Loss')\n",
    "plt.legend()\n",
    "\n",
    "plt.show()"
   ]
  },
  {
   "cell_type": "code",
   "execution_count": 102,
   "id": "5933658c",
   "metadata": {},
   "outputs": [
    {
     "name": "stdout",
     "output_type": "stream",
     "text": [
      "1537/1537 - 3s - loss: 0.4240 - accuracy: 0.8353\n",
      "[0.4239587187767029, 0.8353438973426819]\n"
     ]
    }
   ],
   "source": [
    "# 테스트셋을 통한 모델 평가\n",
    "results = model.evaluate(X_test,  y_test, verbose=2)\n",
    "\n",
    "print(results)"
   ]
  },
  {
   "cell_type": "code",
   "execution_count": 103,
   "id": "bf0d3be9",
   "metadata": {},
   "outputs": [
    {
     "name": "stdout",
     "output_type": "stream",
     "text": [
      "Model: \"sequential_11\"\n",
      "_________________________________________________________________\n",
      "Layer (type)                 Output Shape              Param #   \n",
      "=================================================================\n",
      "embedding_9 (Embedding)      (None, None, 4)           40        \n",
      "_________________________________________________________________\n",
      "global_max_pooling1d_1 (Glob (None, 4)                 0         \n",
      "_________________________________________________________________\n",
      "dense_18 (Dense)             (None, 8)                 40        \n",
      "_________________________________________________________________\n",
      "dense_19 (Dense)             (None, 1)                 9         \n",
      "=================================================================\n",
      "Total params: 89\n",
      "Trainable params: 89\n",
      "Non-trainable params: 0\n",
      "_________________________________________________________________\n"
     ]
    }
   ],
   "source": [
    "# GlobalMaxPooling 레이어 단일 사용\n",
    "\n",
    "vocab_size = 10  # 어휘 사전의 크기입니다(10개의 단어)\n",
    "word_vector_dim = 4   # 단어 하나를 표현하는 임베딩 벡터의 차원 수입니다. \n",
    "\n",
    "model = tf.keras.Sequential()\n",
    "model.add(tf.keras.layers.Embedding(vocab_size, word_vector_dim, input_shape=(None,)))\n",
    "model.add(tf.keras.layers.GlobalMaxPooling1D())\n",
    "model.add(tf.keras.layers.Dense(8, activation='relu'))\n",
    "model.add(tf.keras.layers.Dense(1, activation='sigmoid'))  # 최종 출력은 긍정/부정을 나타내는 1dim 입니다.\n",
    "\n",
    "model.summary()"
   ]
  },
  {
   "cell_type": "code",
   "execution_count": 104,
   "id": "0ac5e650",
   "metadata": {},
   "outputs": [
    {
     "name": "stdout",
     "output_type": "stream",
     "text": [
      "Epoch 1/20\n",
      "188/188 [==============================] - 1s 5ms/step - loss: 0.6926 - accuracy: 0.5277 - val_loss: 0.6918 - val_accuracy: 0.5371\n",
      "Epoch 2/20\n",
      "188/188 [==============================] - 1s 4ms/step - loss: 0.6910 - accuracy: 0.5395 - val_loss: 0.6906 - val_accuracy: 0.5371\n",
      "Epoch 3/20\n",
      "188/188 [==============================] - 1s 4ms/step - loss: 0.6902 - accuracy: 0.5395 - val_loss: 0.6902 - val_accuracy: 0.5372\n",
      "Epoch 4/20\n",
      "188/188 [==============================] - 1s 4ms/step - loss: 0.6899 - accuracy: 0.5398 - val_loss: 0.6902 - val_accuracy: 0.5375\n",
      "Epoch 5/20\n",
      "188/188 [==============================] - 1s 4ms/step - loss: 0.6898 - accuracy: 0.5400 - val_loss: 0.6901 - val_accuracy: 0.5375\n",
      "Epoch 6/20\n",
      "188/188 [==============================] - 1s 4ms/step - loss: 0.6897 - accuracy: 0.5399 - val_loss: 0.6900 - val_accuracy: 0.5375\n",
      "Epoch 7/20\n",
      "188/188 [==============================] - 1s 4ms/step - loss: 0.6897 - accuracy: 0.5401 - val_loss: 0.6900 - val_accuracy: 0.5377\n",
      "Epoch 8/20\n",
      "188/188 [==============================] - 1s 4ms/step - loss: 0.6896 - accuracy: 0.5403 - val_loss: 0.6899 - val_accuracy: 0.5377\n",
      "Epoch 9/20\n",
      "188/188 [==============================] - 1s 4ms/step - loss: 0.6895 - accuracy: 0.5400 - val_loss: 0.6899 - val_accuracy: 0.5384\n",
      "Epoch 10/20\n",
      "188/188 [==============================] - 1s 4ms/step - loss: 0.6895 - accuracy: 0.5408 - val_loss: 0.6899 - val_accuracy: 0.5377\n",
      "Epoch 11/20\n",
      "188/188 [==============================] - 1s 4ms/step - loss: 0.6896 - accuracy: 0.5407 - val_loss: 0.6898 - val_accuracy: 0.5384\n",
      "Epoch 12/20\n",
      "188/188 [==============================] - 1s 4ms/step - loss: 0.6895 - accuracy: 0.5409 - val_loss: 0.6898 - val_accuracy: 0.5387\n",
      "Epoch 13/20\n",
      "188/188 [==============================] - 1s 4ms/step - loss: 0.6895 - accuracy: 0.5410 - val_loss: 0.6898 - val_accuracy: 0.5387\n",
      "Epoch 14/20\n",
      "188/188 [==============================] - 1s 4ms/step - loss: 0.6894 - accuracy: 0.5408 - val_loss: 0.6898 - val_accuracy: 0.5384\n",
      "Epoch 15/20\n",
      "188/188 [==============================] - 1s 4ms/step - loss: 0.6894 - accuracy: 0.5411 - val_loss: 0.6897 - val_accuracy: 0.5387\n",
      "Epoch 16/20\n",
      "188/188 [==============================] - 1s 4ms/step - loss: 0.6894 - accuracy: 0.5409 - val_loss: 0.6897 - val_accuracy: 0.5387\n",
      "Epoch 17/20\n",
      "188/188 [==============================] - 1s 4ms/step - loss: 0.6894 - accuracy: 0.5409 - val_loss: 0.6898 - val_accuracy: 0.5387\n",
      "Epoch 18/20\n",
      "188/188 [==============================] - 1s 4ms/step - loss: 0.6894 - accuracy: 0.5409 - val_loss: 0.6897 - val_accuracy: 0.5387\n",
      "Epoch 19/20\n",
      "188/188 [==============================] - 1s 4ms/step - loss: 0.6893 - accuracy: 0.5409 - val_loss: 0.6897 - val_accuracy: 0.5387\n",
      "Epoch 20/20\n",
      "188/188 [==============================] - 1s 4ms/step - loss: 0.6893 - accuracy: 0.5409 - val_loss: 0.6897 - val_accuracy: 0.5387\n"
     ]
    }
   ],
   "source": [
    "model.compile(optimizer='adam',\n",
    "              loss='binary_crossentropy',\n",
    "              metrics=['accuracy'])\n",
    "\n",
    "epochs=20  # 몇 epoch를 훈련하면 좋을지 결과를 보면서 바꾸어 봅시다.\n",
    "early_stopping = tf.keras.callbacks.EarlyStopping(monitor='val_loss', patience=10) # 조기 종료 적용\n",
    "\n",
    "history = model.fit(partial_x_train,\n",
    "                    partial_y_train,\n",
    "                    epochs=epochs,\n",
    "                    batch_size=512,\n",
    "                    validation_data=(x_val, y_val),\n",
    "                    verbose=1,\n",
    "                    callbacks=[early_stopping]) # 조기 종료 콜백 옵션"
   ]
  },
  {
   "cell_type": "code",
   "execution_count": 105,
   "id": "04b46bdb",
   "metadata": {},
   "outputs": [
    {
     "name": "stdout",
     "output_type": "stream",
     "text": [
      "1537/1537 - 2s - loss: 0.6899 - accuracy: 0.5366\n",
      "[0.6898621916770935, 0.5365868806838989]\n"
     ]
    }
   ],
   "source": [
    "# 테스트셋을 통한 모델 평가\n",
    "results = model.evaluate(X_test,  y_test, verbose=2)\n",
    "\n",
    "print(results)ac"
   ]
  },
  {
   "cell_type": "code",
   "execution_count": 106,
   "id": "77c02738",
   "metadata": {},
   "outputs": [
    {
     "name": "stdout",
     "output_type": "stream",
     "text": [
      "dict_keys(['loss', 'accuracy', 'val_loss', 'val_accuracy'])\n"
     ]
    },
    {
     "data": {
      "image/png": "[encoded data removed]",
      "text/plain": [
       "<Figure size 432x288 with 1 Axes>"
      ]
     },
     "metadata": {
      "needs_background": "light"
     },
     "output_type": "display_data"
    }
   ],
   "source": [
    "history_dict = history.history\n",
    "print(history_dict.keys()) # epoch에 따른 그래프를 그려볼 수 있는 항목들\n",
    "\n",
    "acc = history_dict['accuracy']\n",
    "val_acc = history_dict['val_accuracy']\n",
    "loss = history_dict['loss']\n",
    "val_loss = history_dict['val_loss']\n",
    "\n",
    "epochs = range(1, len(acc) + 1)\n",
    "\n",
    "# \"bo\"는 \"파란색 점\"입니다\n",
    "plt.plot(epochs, loss, 'bo', label='Training loss')\n",
    "# b는 \"파란 실선\"입니다\n",
    "plt.plot(epochs, val_loss, 'b', label='Validation loss')\n",
    "plt.title('Training and validation loss')\n",
    "plt.xlabel('Epochs')\n",
    "plt.ylabel('Loss')\n",
    "plt.legend()\n",
    "\n",
    "plt.show()"
   ]
  },
  {
   "cell_type": "code",
   "execution_count": 67,
   "id": "db092417",
   "metadata": {},
   "outputs": [],
   "source": [
    "from gensim.models.keyedvectors import Word2VecKeyedVectors\n",
    "word2vec_file_path = './word2vec_ko.model'\n",
    "word_vectors = Word2VecKeyedVectors.load(word2vec_file_path)\n",
    "vector = word_vectors.wv['끝']"
   ]
  },
  {
   "cell_type": "code",
   "execution_count": 12,
   "id": "0cecb409",
   "metadata": {},
   "outputs": [
    {
     "data": {
      "text/plain": [
       "[('이별', 0.7626414895057678),\n",
       " ('행복', 0.7550068497657776),\n",
       " ('슬픔', 0.7381505966186523),\n",
       " ('유혹', 0.7238055467605591),\n",
       " ('그리움', 0.7167419195175171),\n",
       " ('추억', 0.7143999338150024),\n",
       " ('꿈', 0.7089294195175171),\n",
       " ('애정', 0.7066588997840881),\n",
       " ('포옹', 0.7034594416618347),\n",
       " ('마음', 0.6972615718841553)]"
      ]
     },
     "execution_count": 12,
     "metadata": {},
     "output_type": "execute_result"
    }
   ],
   "source": [
    "similar_words = word_vectors.wv.most_similar(\"사랑\", topn=10)\n",
    "similar_words"
   ]
  },
  {
   "cell_type": "code",
   "execution_count": 103,
   "id": "833fff90",
   "metadata": {},
   "outputs": [],
   "source": [
    "word_vector_dim = 100 \n",
    "embedding_matrix = np.zeros((vocab_size, word_vector_dim))\n",
    "\n",
    "for word, i in word_to_index.items():\n",
    "    if i < vocab_size:\n",
    "        try:\n",
    "            embedding_vector = word_vectors.wv[word]\n",
    "            embedding_matrix[i] = embedding_vector\n",
    "        except KeyError:\n",
    "            continue\n",
    "\n",
    "model = tf.keras.Sequential()\n",
    "model.add(tf.keras.layers.Embedding(vocab_size, \n",
    "                                    word_vector_dim, \n",
    "                                    embeddings_initializer=tf.keras.initializers.Constant(embedding_matrix), \n",
    "                                    input_shape=(None,), \n",
    "                                    trainable=False))  # trainable을 True로 설정하면 Fine-tuning이 가능합니다.\n",
    "model.add_loss(lambda: tf.keras.regularizers.l2(0.0001)(model.layers[0].embeddings))\n",
    "model.add(tf.keras.layers.LSTM(12, return_sequences=True)) # 레이어 증가\n",
    "model.add(tf.keras.layers.LSTM(8, return_sequences=True)) # 레이어 한겹 추가\n",
    "model.add(tf.keras.layers.GRU(8)) # GRU 레이어\n",
    "model.add(tf.keras.layers.Dense(12, activation='leaky_relu')) # Leaky ReLU 추가\n",
    "model.add(tf.keras.layers.Dense(8, activation='relu'))\n",
    "model.add(tf.keras.layers.Dropout(0.7))\n",
    "model.add(tf.keras.layers.Dense(1, activation='sigmoid'))"
   ]
  },
  {
   "cell_type": "code",
   "execution_count": 108,
   "id": "55198b06",
   "metadata": {},
   "outputs": [
    {
     "name": "stdout",
     "output_type": "stream",
     "text": [
      "\u001b[31mPlease check your arguments if you have upgraded adabelief-tf from version 0.0.1.\n",
      "\u001b[31mModifications to default arguments:\n",
      "\u001b[31m                           eps  weight_decouple    rectify\n",
      "-----------------------  -----  -----------------  -------------\n",
      "adabelief-tf=0.0.1       1e-08  Not supported      Not supported\n",
      ">=0.1.0 (Current 0.2.1)  1e-14  supported          default: True\n",
      "\u001b[34mSGD better than Adam (e.g. CNN for Image Classification)    Adam better than SGD (e.g. Transformer, GAN)\n",
      "----------------------------------------------------------  ----------------------------------------------\n",
      "Recommended epsilon = 1e-7                                  Recommended epsilon = 1e-14\n",
      "\u001b[34mFor a complete table of recommended hyperparameters, see\n",
      "\u001b[34mhttps://github.com/juntang-zhuang/Adabelief-Optimizer\n",
      "\u001b[32mYou can disable the log message by setting \"print_change_log = False\", though it is recommended to keep as a reminder.\n",
      "\u001b[0m\n",
      "Epoch 1/30\n",
      "188/188 [==============================] - 7s 18ms/step - loss: 225.3147 - accuracy: 0.7686 - val_loss: 225.2529 - val_accuracy: 0.8321\n",
      "Epoch 2/30\n",
      "188/188 [==============================] - 2s 12ms/step - loss: 225.3136 - accuracy: 0.7682 - val_loss: 225.2516 - val_accuracy: 0.8354\n",
      "Epoch 3/30\n",
      "188/188 [==============================] - 2s 13ms/step - loss: 225.3138 - accuracy: 0.7685 - val_loss: 225.2546 - val_accuracy: 0.8350\n",
      "Epoch 4/30\n",
      "188/188 [==============================] - 2s 12ms/step - loss: 225.3108 - accuracy: 0.7696 - val_loss: 225.2530 - val_accuracy: 0.8341\n",
      "Epoch 5/30\n",
      "188/188 [==============================] - 2s 13ms/step - loss: 225.3106 - accuracy: 0.7691 - val_loss: 225.2522 - val_accuracy: 0.8323\n",
      "Epoch 6/30\n",
      "188/188 [==============================] - 2s 12ms/step - loss: 225.3110 - accuracy: 0.7696 - val_loss: 225.2522 - val_accuracy: 0.8326\n",
      "Epoch 7/30\n",
      "188/188 [==============================] - 2s 13ms/step - loss: 225.3090 - accuracy: 0.7714 - val_loss: 225.2522 - val_accuracy: 0.8335\n",
      "Epoch 8/30\n",
      "188/188 [==============================] - 2s 12ms/step - loss: 225.3107 - accuracy: 0.7687 - val_loss: 225.2552 - val_accuracy: 0.8322\n",
      "Epoch 9/30\n",
      "188/188 [==============================] - 2s 13ms/step - loss: 225.3092 - accuracy: 0.7683 - val_loss: 225.2499 - val_accuracy: 0.8354\n",
      "Epoch 10/30\n",
      "188/188 [==============================] - 2s 12ms/step - loss: 225.3062 - accuracy: 0.7704 - val_loss: 225.2524 - val_accuracy: 0.8331\n",
      "Epoch 11/30\n",
      "188/188 [==============================] - 2s 13ms/step - loss: 225.3063 - accuracy: 0.7711 - val_loss: 225.2525 - val_accuracy: 0.8340\n",
      "Epoch 12/30\n",
      "188/188 [==============================] - 2s 12ms/step - loss: 225.3064 - accuracy: 0.7711 - val_loss: 225.2508 - val_accuracy: 0.8346\n",
      "Epoch 13/30\n",
      "188/188 [==============================] - 2s 13ms/step - loss: 225.3042 - accuracy: 0.7719 - val_loss: 225.2525 - val_accuracy: 0.8345\n",
      "Epoch 14/30\n",
      "188/188 [==============================] - 2s 12ms/step - loss: 225.3046 - accuracy: 0.7721 - val_loss: 225.2522 - val_accuracy: 0.8339\n",
      "Epoch 15/30\n",
      "188/188 [==============================] - 2s 13ms/step - loss: 225.3039 - accuracy: 0.7725 - val_loss: 225.2522 - val_accuracy: 0.8347\n",
      "Epoch 16/30\n",
      "188/188 [==============================] - 2s 12ms/step - loss: 225.3049 - accuracy: 0.7734 - val_loss: 225.2548 - val_accuracy: 0.8325\n",
      "Epoch 17/30\n",
      "188/188 [==============================] - 2s 13ms/step - loss: 225.3018 - accuracy: 0.7708 - val_loss: 225.2525 - val_accuracy: 0.8327\n",
      "Epoch 18/30\n",
      "188/188 [==============================] - 2s 12ms/step - loss: 225.3026 - accuracy: 0.7719 - val_loss: 225.2519 - val_accuracy: 0.8340\n",
      "Epoch 19/30\n",
      "188/188 [==============================] - 2s 12ms/step - loss: 225.3000 - accuracy: 0.7735 - val_loss: 225.2517 - val_accuracy: 0.8341\n"
     ]
    }
   ],
   "source": [
    "from adabelief_tf import AdaBeliefOptimizer # AdaBelief 옵티마이저\n",
    "\n",
    "\n",
    "# optimizer = tf.keras.optimizers.Adam(learning_rate=0.005) # 학습률 조정\n",
    "ptimizer = AdaBeliefOptimizer(learning_rate=1e-3, epsilon=1e-14, rectify=False) # Ada_Belief 옵티마이저 사용\n",
    "model.compile(optimizer=optimizer,\n",
    "# model.compile(optimizer='adam',\n",
    "              loss='binary_crossentropy',\n",
    "              metrics=['accuracy'])\n",
    "\n",
    "epochs=30  # 에포크 증가\n",
    "early_stopping = tf.keras.callbacks.EarlyStopping(monitor='val_loss', patience=10) # 조기 종료 적용\n",
    "\n",
    "history = model.fit(partial_x_train,\n",
    "                    partial_y_train,\n",
    "                    epochs=epochs,\n",
    "                    batch_size=512,\n",
    "                    validation_data=(x_val, y_val),\n",
    "                    verbose=1,\n",
    "                    callbacks=[early_stopping]) # 조기 종료 콜백 옵션"
   ]
  },
  {
   "cell_type": "code",
   "execution_count": 109,
   "id": "c751687a",
   "metadata": {},
   "outputs": [
    {
     "name": "stdout",
     "output_type": "stream",
     "text": [
      "1537/1537 - 6s - loss: 225.2582 - accuracy: 0.8311\n",
      "[225.25820922851562, 0.8310718536376953]\n"
     ]
    }
   ],
   "source": [
    "# 테스트셋을 통한 모델 평가\n",
    "results = model.evaluate(X_test,  y_test, verbose=2)\n",
    "\n",
    "print(results)"
   ]
  },
  {
   "cell_type": "code",
   "execution_count": 110,
   "id": "60b0b257",
   "metadata": {},
   "outputs": [
    {
     "name": "stdout",
     "output_type": "stream",
     "text": [
      "dict_keys(['loss', 'accuracy', 'val_loss', 'val_accuracy'])\n"
     ]
    },
    {
     "data": {
      "image/png": "[encoded data removed]",
      "text/plain": [
       "<Figure size 432x288 with 1 Axes>"
      ]
     },
     "metadata": {
      "needs_background": "light"
     },
     "output_type": "display_data"
    }
   ],
   "source": [
    "history_dict = history.history\n",
    "print(history_dict.keys()) # epoch에 따른 그래프를 그려볼 수 있는 항목들\n",
    "\n",
    "acc = history_dict['accuracy']\n",
    "val_acc = history_dict['val_accuracy']\n",
    "loss = history_dict['loss']\n",
    "val_loss = history_dict['val_loss']\n",
    "\n",
    "epochs = range(1, len(acc) + 1)\n",
    "\n",
    "# \"bo\"는 \"파란색 점\"입니다\n",
    "plt.plot(epochs, loss, 'bo', label='Training loss')\n",
    "# b는 \"파란 실선\"입니다\n",
    "plt.plot(epochs, val_loss, 'b', label='Validation loss')\n",
    "plt.title('Training and validation loss')\n",
    "plt.xlabel('Epochs')\n",
    "plt.ylabel('Loss')\n",
    "plt.legend()\n",
    "\n",
    "plt.show()"
   ]
  },
  {
   "cell_type": "markdown",
   "id": "7825ff05",
   "metadata": {},
   "source": [
    "# 회고\n",
    "모델은 RNN만 썼지만 하이퍼파라미터(레이어 수, 학습률)를 여러 가지로 시도하고, 옵티마이저도 바꾸어보고, ReLU 함수 대신 다른 활성화 함수를 써보기도 하고 다양한 시도를 했다. 85%라는 학습률이 나오지 않아서 이를 기준으로 제시했구나 라는 생각이 끝날 무렵에 들었다. 아마 데이터 자체의 한계일수도 있고 (처음에 뽑은 헤드 5개 리뷰를 보면 긍/부정이 부적절하게 분류되어 있는 것으로 보인다) 뭔가 다른 접근법이 있는 것일지도 모르겠다.\n",
    "\n",
    "사실 정확히 뭐가 뭔지는 잘 모르겠다는 느낌이 여전히 있으나, 어떤 시도를 어떻게 할 수 있는지 코드로 옵션을 조작해보는 경험은 유의미했다."
   ]
  }
 ],
 "metadata": {
  "kernelspec": {
   "display_name": "Python 3 (ipykernel)",
   "language": "python",
   "name": "python3"
  },
  "language_info": {
   "codemirror_mode": {
    "name": "ipython",
    "version": 3
   },
   "file_extension": ".py",
   "mimetype": "text/x-python",
   "name": "python",
   "nbconvert_exporter": "python",
   "pygments_lexer": "ipython3",
   "version": "3.9.7"
  }
 },
 "nbformat": 4,
 "nbformat_minor": 5
}
