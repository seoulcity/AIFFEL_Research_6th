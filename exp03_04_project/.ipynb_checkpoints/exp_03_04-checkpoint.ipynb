{
 "cells": [
  {
   "cell_type": "markdown",
   "id": "9099bd4a",
   "metadata": {
    "id": "fCmFd_dHZzVC"
   },
   "source": [
    "# 환경 설정"
   ]
  },
  {
   "cell_type": "code",
   "execution_count": 2,
   "id": "62a4d30b",
   "metadata": {
    "colab": {
     "base_uri": "https://localhost:8080/"
    },
    "executionInfo": {
     "elapsed": 19418,
     "status": "ok",
     "timestamp": 1695782472391,
     "user": {
      "displayName": "­김정현",
      "userId": "07015025296255556159"
     },
     "user_tz": -540
    },
    "id": "W_sQKsyHSWNm",
    "outputId": "42b152db-c375-4d4c-be4f-35e6aa09ff9b"
   },
   "outputs": [
    {
     "name": "stdout",
     "output_type": "stream",
     "text": [
      "Mounted at /content/drive\n"
     ]
    }
   ],
   "source": [
    "from google.colab import drive\n",
    "drive.mount('/content/drive')"
   ]
  },
  {
   "cell_type": "code",
   "execution_count": 1,
   "id": "80efa935",
   "metadata": {
    "ExecuteTime": {
     "end_time": "2023-09-26T07:58:47.259652Z",
     "start_time": "2023-09-26T07:58:47.257089Z"
    },
    "collapsed": true,
    "executionInfo": {
     "elapsed": 401,
     "status": "ok",
     "timestamp": 1695782451695,
     "user": {
      "displayName": "­김정현",
      "userId": "07015025296255556159"
     },
     "user_tz": -540
    },
    "id": "initial_id"
   },
   "outputs": [],
   "source": [
    "import pandas as pd"
   ]
  },
  {
   "cell_type": "markdown",
   "id": "df147fc6",
   "metadata": {
    "id": "mqKApZSPZ32W"
   },
   "source": [
    "# 데이터셋 로드"
   ]
  },
  {
   "cell_type": "code",
   "execution_count": 3,
   "id": "35e0a527",
   "metadata": {
    "ExecuteTime": {
     "end_time": "2023-09-26T07:59:15.842239Z",
     "start_time": "2023-09-26T07:59:15.795621Z"
    },
    "executionInfo": {
     "elapsed": 2510,
     "status": "ok",
     "timestamp": 1695782476294,
     "user": {
      "displayName": "­김정현",
      "userId": "07015025296255556159"
     },
     "user_tz": -540
    },
    "id": "4f2883cec851a185"
   },
   "outputs": [],
   "source": [
    "train = pd.read_csv('/content/drive/MyDrive/Colab Notebooks/AIFFEL_Research_6th/exp03_04_project/baseline_kernel/data/train.csv')\n",
    "test = pd.read_csv('/content/drive/MyDrive/Colab Notebooks/AIFFEL_Research_6th/exp03_04_project/baseline_kernel/data/test.csv')"
   ]
  },
  {
   "cell_type": "code",
   "execution_count": 4,
   "id": "84f856ee",
   "metadata": {
    "ExecuteTime": {
     "end_time": "2023-09-26T08:00:00.486050Z",
     "start_time": "2023-09-26T08:00:00.470649Z"
    },
    "colab": {
     "base_uri": "https://localhost:8080/",
     "height": 236
    },
    "executionInfo": {
     "elapsed": 4,
     "status": "ok",
     "timestamp": 1695782477646,
     "user": {
      "displayName": "­김정현",
      "userId": "07015025296255556159"
     },
     "user_tz": -540
    },
    "id": "4ebe272d40bd8984",
    "outputId": "3a24ff7d-ef9c-4e14-e850-18b33ba637b1"
   },
   "outputs": [
    {
     "data": {
      "text/html": [
       "\n",
       "  <div id=\"df-7b36799d-b44f-480d-8e03-fca91133ddcb\" class=\"colab-df-container\">\n",
       "    <div>\n",
       "<style scoped>\n",
       "    .dataframe tbody tr th:only-of-type {\n",
       "        vertical-align: middle;\n",
       "    }\n",
       "\n",
       "    .dataframe tbody tr th {\n",
       "        vertical-align: top;\n",
       "    }\n",
       "\n",
       "    .dataframe thead th {\n",
       "        text-align: right;\n",
       "    }\n",
       "</style>\n",
       "<table border=\"1\" class=\"dataframe\">\n",
       "  <thead>\n",
       "    <tr style=\"text-align: right;\">\n",
       "      <th></th>\n",
       "      <th>id</th>\n",
       "      <th>date</th>\n",
       "      <th>price</th>\n",
       "      <th>bedrooms</th>\n",
       "      <th>bathrooms</th>\n",
       "      <th>sqft_living</th>\n",
       "      <th>sqft_lot</th>\n",
       "      <th>floors</th>\n",
       "      <th>waterfront</th>\n",
       "      <th>view</th>\n",
       "      <th>...</th>\n",
       "      <th>grade</th>\n",
       "      <th>sqft_above</th>\n",
       "      <th>sqft_basement</th>\n",
       "      <th>yr_built</th>\n",
       "      <th>yr_renovated</th>\n",
       "      <th>zipcode</th>\n",
       "      <th>lat</th>\n",
       "      <th>long</th>\n",
       "      <th>sqft_living15</th>\n",
       "      <th>sqft_lot15</th>\n",
       "    </tr>\n",
       "  </thead>\n",
       "  <tbody>\n",
       "    <tr>\n",
       "      <th>0</th>\n",
       "      <td>0</td>\n",
       "      <td>201410</td>\n",
       "      <td>221900.0</td>\n",
       "      <td>3</td>\n",
       "      <td>1.00</td>\n",
       "      <td>1180</td>\n",
       "      <td>5650</td>\n",
       "      <td>1.0</td>\n",
       "      <td>0</td>\n",
       "      <td>0</td>\n",
       "      <td>...</td>\n",
       "      <td>7</td>\n",
       "      <td>1180</td>\n",
       "      <td>0</td>\n",
       "      <td>1955</td>\n",
       "      <td>0</td>\n",
       "      <td>98178</td>\n",
       "      <td>47.5112</td>\n",
       "      <td>-122.257</td>\n",
       "      <td>1340</td>\n",
       "      <td>5650</td>\n",
       "    </tr>\n",
       "    <tr>\n",
       "      <th>1</th>\n",
       "      <td>1</td>\n",
       "      <td>201502</td>\n",
       "      <td>180000.0</td>\n",
       "      <td>2</td>\n",
       "      <td>1.00</td>\n",
       "      <td>770</td>\n",
       "      <td>10000</td>\n",
       "      <td>1.0</td>\n",
       "      <td>0</td>\n",
       "      <td>0</td>\n",
       "      <td>...</td>\n",
       "      <td>6</td>\n",
       "      <td>770</td>\n",
       "      <td>0</td>\n",
       "      <td>1933</td>\n",
       "      <td>0</td>\n",
       "      <td>98028</td>\n",
       "      <td>47.7379</td>\n",
       "      <td>-122.233</td>\n",
       "      <td>2720</td>\n",
       "      <td>8062</td>\n",
       "    </tr>\n",
       "    <tr>\n",
       "      <th>2</th>\n",
       "      <td>2</td>\n",
       "      <td>201502</td>\n",
       "      <td>510000.0</td>\n",
       "      <td>3</td>\n",
       "      <td>2.00</td>\n",
       "      <td>1680</td>\n",
       "      <td>8080</td>\n",
       "      <td>1.0</td>\n",
       "      <td>0</td>\n",
       "      <td>0</td>\n",
       "      <td>...</td>\n",
       "      <td>8</td>\n",
       "      <td>1680</td>\n",
       "      <td>0</td>\n",
       "      <td>1987</td>\n",
       "      <td>0</td>\n",
       "      <td>98074</td>\n",
       "      <td>47.6168</td>\n",
       "      <td>-122.045</td>\n",
       "      <td>1800</td>\n",
       "      <td>7503</td>\n",
       "    </tr>\n",
       "    <tr>\n",
       "      <th>3</th>\n",
       "      <td>3</td>\n",
       "      <td>201406</td>\n",
       "      <td>257500.0</td>\n",
       "      <td>3</td>\n",
       "      <td>2.25</td>\n",
       "      <td>1715</td>\n",
       "      <td>6819</td>\n",
       "      <td>2.0</td>\n",
       "      <td>0</td>\n",
       "      <td>0</td>\n",
       "      <td>...</td>\n",
       "      <td>7</td>\n",
       "      <td>1715</td>\n",
       "      <td>0</td>\n",
       "      <td>1995</td>\n",
       "      <td>0</td>\n",
       "      <td>98003</td>\n",
       "      <td>47.3097</td>\n",
       "      <td>-122.327</td>\n",
       "      <td>2238</td>\n",
       "      <td>6819</td>\n",
       "    </tr>\n",
       "    <tr>\n",
       "      <th>4</th>\n",
       "      <td>4</td>\n",
       "      <td>201501</td>\n",
       "      <td>291850.0</td>\n",
       "      <td>3</td>\n",
       "      <td>1.50</td>\n",
       "      <td>1060</td>\n",
       "      <td>9711</td>\n",
       "      <td>1.0</td>\n",
       "      <td>0</td>\n",
       "      <td>0</td>\n",
       "      <td>...</td>\n",
       "      <td>7</td>\n",
       "      <td>1060</td>\n",
       "      <td>0</td>\n",
       "      <td>1963</td>\n",
       "      <td>0</td>\n",
       "      <td>98198</td>\n",
       "      <td>47.4095</td>\n",
       "      <td>-122.315</td>\n",
       "      <td>1650</td>\n",
       "      <td>9711</td>\n",
       "    </tr>\n",
       "  </tbody>\n",
       "</table>\n",
       "<p>5 rows × 21 columns</p>\n",
       "</div>\n",
       "    <div class=\"colab-df-buttons\">\n",
       "\n",
       "  <div class=\"colab-df-container\">\n",
       "    <button class=\"colab-df-convert\" onclick=\"convertToInteractive('df-7b36799d-b44f-480d-8e03-fca91133ddcb')\"\n",
       "            title=\"Convert this dataframe to an interactive table.\"\n",
       "            style=\"display:none;\">\n",
       "\n",
       "  <svg xmlns=\"http://www.w3.org/2000/svg\" height=\"24px\" viewBox=\"0 -960 960 960\">\n",
       "    <path d=\"M120-120v-720h720v720H120Zm60-500h600v-160H180v160Zm220 220h160v-160H400v160Zm0 220h160v-160H400v160ZM180-400h160v-160H180v160Zm440 0h160v-160H620v160ZM180-180h160v-160H180v160Zm440 0h160v-160H620v160Z\"/>\n",
       "  </svg>\n",
       "    </button>\n",
       "\n",
       "  <style>\n",
       "    .colab-df-container {\n",
       "      display:flex;\n",
       "      gap: 12px;\n",
       "    }\n",
       "\n",
       "    .colab-df-convert {\n",
       "      background-color: #E8F0FE;\n",
       "      border: none;\n",
       "      border-radius: 50%;\n",
       "      cursor: pointer;\n",
       "      display: none;\n",
       "      fill: #1967D2;\n",
       "      height: 32px;\n",
       "      padding: 0 0 0 0;\n",
       "      width: 32px;\n",
       "    }\n",
       "\n",
       "    .colab-df-convert:hover {\n",
       "      background-color: #E2EBFA;\n",
       "      box-shadow: 0px 1px 2px rgba(60, 64, 67, 0.3), 0px 1px 3px 1px rgba(60, 64, 67, 0.15);\n",
       "      fill: #174EA6;\n",
       "    }\n",
       "\n",
       "    .colab-df-buttons div {\n",
       "      margin-bottom: 4px;\n",
       "    }\n",
       "\n",
       "    [theme=dark] .colab-df-convert {\n",
       "      background-color: #3B4455;\n",
       "      fill: #D2E3FC;\n",
       "    }\n",
       "\n",
       "    [theme=dark] .colab-df-convert:hover {\n",
       "      background-color: #434B5C;\n",
       "      box-shadow: 0px 1px 3px 1px rgba(0, 0, 0, 0.15);\n",
       "      filter: drop-shadow(0px 1px 2px rgba(0, 0, 0, 0.3));\n",
       "      fill: #FFFFFF;\n",
       "    }\n",
       "  </style>\n",
       "\n",
       "    <script>\n",
       "      const buttonEl =\n",
       "        document.querySelector('#df-7b36799d-b44f-480d-8e03-fca91133ddcb button.colab-df-convert');\n",
       "      buttonEl.style.display =\n",
       "        google.colab.kernel.accessAllowed ? 'block' : 'none';\n",
       "\n",
       "      async function convertToInteractive(key) {\n",
       "        const element = document.querySelector('#df-7b36799d-b44f-480d-8e03-fca91133ddcb');\n",
       "        const dataTable =\n",
       "          await google.colab.kernel.invokeFunction('convertToInteractive',\n",
       "                                                    [key], {});\n",
       "        if (!dataTable) return;\n",
       "\n",
       "        const docLinkHtml = 'Like what you see? Visit the ' +\n",
       "          '<a target=\"_blank\" href=https://colab.research.google.com/notebooks/data_table.ipynb>data table notebook</a>'\n",
       "          + ' to learn more about interactive tables.';\n",
       "        element.innerHTML = '';\n",
       "        dataTable['output_type'] = 'display_data';\n",
       "        await google.colab.output.renderOutput(dataTable, element);\n",
       "        const docLink = document.createElement('div');\n",
       "        docLink.innerHTML = docLinkHtml;\n",
       "        element.appendChild(docLink);\n",
       "      }\n",
       "    </script>\n",
       "  </div>\n",
       "\n",
       "\n",
       "<div id=\"df-f72f7d8d-f901-4fc8-8a8c-d3071a1c0e02\">\n",
       "  <button class=\"colab-df-quickchart\" onclick=\"quickchart('df-f72f7d8d-f901-4fc8-8a8c-d3071a1c0e02')\"\n",
       "            title=\"Suggest charts.\"\n",
       "            style=\"display:none;\">\n",
       "\n",
       "<svg xmlns=\"http://www.w3.org/2000/svg\" height=\"24px\"viewBox=\"0 0 24 24\"\n",
       "     width=\"24px\">\n",
       "    <g>\n",
       "        <path d=\"M19 3H5c-1.1 0-2 .9-2 2v14c0 1.1.9 2 2 2h14c1.1 0 2-.9 2-2V5c0-1.1-.9-2-2-2zM9 17H7v-7h2v7zm4 0h-2V7h2v10zm4 0h-2v-4h2v4z\"/>\n",
       "    </g>\n",
       "</svg>\n",
       "  </button>\n",
       "\n",
       "<style>\n",
       "  .colab-df-quickchart {\n",
       "      --bg-color: #E8F0FE;\n",
       "      --fill-color: #1967D2;\n",
       "      --hover-bg-color: #E2EBFA;\n",
       "      --hover-fill-color: #174EA6;\n",
       "      --disabled-fill-color: #AAA;\n",
       "      --disabled-bg-color: #DDD;\n",
       "  }\n",
       "\n",
       "  [theme=dark] .colab-df-quickchart {\n",
       "      --bg-color: #3B4455;\n",
       "      --fill-color: #D2E3FC;\n",
       "      --hover-bg-color: #434B5C;\n",
       "      --hover-fill-color: #FFFFFF;\n",
       "      --disabled-bg-color: #3B4455;\n",
       "      --disabled-fill-color: #666;\n",
       "  }\n",
       "\n",
       "  .colab-df-quickchart {\n",
       "    background-color: var(--bg-color);\n",
       "    border: none;\n",
       "    border-radius: 50%;\n",
       "    cursor: pointer;\n",
       "    display: none;\n",
       "    fill: var(--fill-color);\n",
       "    height: 32px;\n",
       "    padding: 0;\n",
       "    width: 32px;\n",
       "  }\n",
       "\n",
       "  .colab-df-quickchart:hover {\n",
       "    background-color: var(--hover-bg-color);\n",
       "    box-shadow: 0 1px 2px rgba(60, 64, 67, 0.3), 0 1px 3px 1px rgba(60, 64, 67, 0.15);\n",
       "    fill: var(--button-hover-fill-color);\n",
       "  }\n",
       "\n",
       "  .colab-df-quickchart-complete:disabled,\n",
       "  .colab-df-quickchart-complete:disabled:hover {\n",
       "    background-color: var(--disabled-bg-color);\n",
       "    fill: var(--disabled-fill-color);\n",
       "    box-shadow: none;\n",
       "  }\n",
       "\n",
       "  .colab-df-spinner {\n",
       "    border: 2px solid var(--fill-color);\n",
       "    border-color: transparent;\n",
       "    border-bottom-color: var(--fill-color);\n",
       "    animation:\n",
       "      spin 1s steps(1) infinite;\n",
       "  }\n",
       "\n",
       "  @keyframes spin {\n",
       "    0% {\n",
       "      border-color: transparent;\n",
       "      border-bottom-color: var(--fill-color);\n",
       "      border-left-color: var(--fill-color);\n",
       "    }\n",
       "    20% {\n",
       "      border-color: transparent;\n",
       "      border-left-color: var(--fill-color);\n",
       "      border-top-color: var(--fill-color);\n",
       "    }\n",
       "    30% {\n",
       "      border-color: transparent;\n",
       "      border-left-color: var(--fill-color);\n",
       "      border-top-color: var(--fill-color);\n",
       "      border-right-color: var(--fill-color);\n",
       "    }\n",
       "    40% {\n",
       "      border-color: transparent;\n",
       "      border-right-color: var(--fill-color);\n",
       "      border-top-color: var(--fill-color);\n",
       "    }\n",
       "    60% {\n",
       "      border-color: transparent;\n",
       "      border-right-color: var(--fill-color);\n",
       "    }\n",
       "    80% {\n",
       "      border-color: transparent;\n",
       "      border-right-color: var(--fill-color);\n",
       "      border-bottom-color: var(--fill-color);\n",
       "    }\n",
       "    90% {\n",
       "      border-color: transparent;\n",
       "      border-bottom-color: var(--fill-color);\n",
       "    }\n",
       "  }\n",
       "</style>\n",
       "\n",
       "  <script>\n",
       "    async function quickchart(key) {\n",
       "      const quickchartButtonEl =\n",
       "        document.querySelector('#' + key + ' button');\n",
       "      quickchartButtonEl.disabled = true;  // To prevent multiple clicks.\n",
       "      quickchartButtonEl.classList.add('colab-df-spinner');\n",
       "      try {\n",
       "        const charts = await google.colab.kernel.invokeFunction(\n",
       "            'suggestCharts', [key], {});\n",
       "      } catch (error) {\n",
       "        console.error('Error during call to suggestCharts:', error);\n",
       "      }\n",
       "      quickchartButtonEl.classList.remove('colab-df-spinner');\n",
       "      quickchartButtonEl.classList.add('colab-df-quickchart-complete');\n",
       "    }\n",
       "    (() => {\n",
       "      let quickchartButtonEl =\n",
       "        document.querySelector('#df-f72f7d8d-f901-4fc8-8a8c-d3071a1c0e02 button');\n",
       "      quickchartButtonEl.style.display =\n",
       "        google.colab.kernel.accessAllowed ? 'block' : 'none';\n",
       "    })();\n",
       "  </script>\n",
       "</div>\n",
       "    </div>\n",
       "  </div>\n"
      ],
      "text/plain": [
       "   id    date     price  bedrooms  bathrooms  sqft_living  sqft_lot  floors  \\\n",
       "0   0  201410  221900.0         3       1.00         1180      5650     1.0   \n",
       "1   1  201502  180000.0         2       1.00          770     10000     1.0   \n",
       "2   2  201502  510000.0         3       2.00         1680      8080     1.0   \n",
       "3   3  201406  257500.0         3       2.25         1715      6819     2.0   \n",
       "4   4  201501  291850.0         3       1.50         1060      9711     1.0   \n",
       "\n",
       "   waterfront  view  ...  grade  sqft_above  sqft_basement  yr_built  \\\n",
       "0           0     0  ...      7        1180              0      1955   \n",
       "1           0     0  ...      6         770              0      1933   \n",
       "2           0     0  ...      8        1680              0      1987   \n",
       "3           0     0  ...      7        1715              0      1995   \n",
       "4           0     0  ...      7        1060              0      1963   \n",
       "\n",
       "   yr_renovated  zipcode      lat     long  sqft_living15  sqft_lot15  \n",
       "0             0    98178  47.5112 -122.257           1340        5650  \n",
       "1             0    98028  47.7379 -122.233           2720        8062  \n",
       "2             0    98074  47.6168 -122.045           1800        7503  \n",
       "3             0    98003  47.3097 -122.327           2238        6819  \n",
       "4             0    98198  47.4095 -122.315           1650        9711  \n",
       "\n",
       "[5 rows x 21 columns]"
      ]
     },
     "execution_count": 4,
     "metadata": {},
     "output_type": "execute_result"
    }
   ],
   "source": [
    "train['date'] = train['date'].apply(lambda i: i[:6]).astype(int)\n",
    "train.head()"
   ]
  },
  {
   "cell_type": "markdown",
   "id": "d839444c",
   "metadata": {
    "id": "z80Db5LBZ7KN"
   },
   "source": [
    "# 데이터 전처리"
   ]
  },
  {
   "cell_type": "code",
   "execution_count": 5,
   "id": "f43c70ae",
   "metadata": {
    "ExecuteTime": {
     "end_time": "2023-09-26T08:00:11.316274Z",
     "start_time": "2023-09-26T08:00:11.303972Z"
    },
    "colab": {
     "base_uri": "https://localhost:8080/"
    },
    "executionInfo": {
     "elapsed": 3,
     "status": "ok",
     "timestamp": 1695782479306,
     "user": {
      "displayName": "­김정현",
      "userId": "07015025296255556159"
     },
     "user_tz": -540
    },
    "id": "7e92cab35b94394f",
    "outputId": "f3b9f273-c573-4cdc-be4d-e42af19d4c19"
   },
   "outputs": [
    {
     "name": "stdout",
     "output_type": "stream",
     "text": [
      "Index(['id', 'date', 'bedrooms', 'bathrooms', 'sqft_living', 'sqft_lot',\n",
      "       'floors', 'waterfront', 'view', 'condition', 'grade', 'sqft_above',\n",
      "       'sqft_basement', 'yr_built', 'yr_renovated', 'lat', 'long',\n",
      "       'sqft_living15', 'sqft_lot15'],\n",
      "      dtype='object')\n"
     ]
    }
   ],
   "source": [
    "y = train['price']\n",
    "del train['price']\n",
    "del train['zipcode']\n",
    "del train['id']\n",
    "\n",
    "print(train.columns)"
   ]
  },
  {
   "cell_type": "code",
   "execution_count": 7,
   "id": "a76acebd",
   "metadata": {
    "ExecuteTime": {
     "end_time": "2023-09-26T08:14:39.765961Z",
     "start_time": "2023-09-26T08:14:39.749131Z"
    },
    "colab": {
     "base_uri": "https://localhost:8080/"
    },
    "executionInfo": {
     "elapsed": 310,
     "status": "ok",
     "timestamp": 1695782483642,
     "user": {
      "displayName": "­김정현",
      "userId": "07015025296255556159"
     },
     "user_tz": -540
    },
    "id": "ee7ea036556b8623",
    "outputId": "713145c8-7c9c-400d-8314-ac356acdd9af"
   },
   "outputs": [
    {
     "name": "stdout",
     "output_type": "stream",
     "text": [
      "Index(['date', 'bedrooms', 'bathrooms', 'sqft_living', 'sqft_lot', 'floors',\n",
      "       'waterfront', 'view', 'condition', 'grade', 'sqft_above',\n",
      "       'sqft_basement', 'yr_built', 'yr_renovated', 'lat', 'long',\n",
      "       'sqft_living15', 'sqft_lot15'],\n",
      "      dtype='object')\n"
     ]
    }
   ],
   "source": [
    "test['date'] = test['date'].apply(lambda i: i[:6]).astype(int)\n",
    "del test['id']\n",
    "del test['zipcode']\n",
    "\n",
    "print(test.columns)"
   ]
  },
  {
   "cell_type": "markdown",
   "id": "91e088c4",
   "metadata": {
    "id": "VvY8DmX3Z-2O"
   },
   "source": [
    "# 타겟 분포 정규화"
   ]
  },
  {
   "cell_type": "code",
   "execution_count": 8,
   "id": "f912ff1d",
   "metadata": {
    "ExecuteTime": {
     "end_time": "2023-09-26T08:16:00.854556Z",
     "start_time": "2023-09-26T08:16:00.565386Z"
    },
    "colab": {
     "base_uri": "https://localhost:8080/",
     "height": 449
    },
    "executionInfo": {
     "elapsed": 2285,
     "status": "ok",
     "timestamp": 1695782498741,
     "user": {
      "displayName": "­김정현",
      "userId": "07015025296255556159"
     },
     "user_tz": -540
    },
    "id": "747f4cf81c188e1f",
    "outputId": "47beef8a-c6e1-4283-b27f-d58af4d47a87"
   },
   "outputs": [
    {
     "data": {
      "image/png": "[encoded data removed]",
      "text/plain": [
       "<Figure size 640x480 with 1 Axes>"
      ]
     },
     "metadata": {},
     "output_type": "display_data"
    }
   ],
   "source": [
    "import numpy as np\n",
    "import seaborn as sns\n",
    "import matplotlib.pyplot as plt\n",
    "\n",
    "y = np.log1p(y)\n",
    "sns.kdeplot(y)\n",
    "plt.show()"
   ]
  },
  {
   "cell_type": "markdown",
   "id": "06870d5a",
   "metadata": {
    "id": "aZIx8bQ7aGUe"
   },
   "source": [
    "# 사용 함수 정의"
   ]
  },
  {
   "cell_type": "code",
   "execution_count": 9,
   "id": "008b8876",
   "metadata": {
    "ExecuteTime": {
     "end_time": "2023-09-26T08:44:27.443196Z",
     "start_time": "2023-09-26T08:44:27.433985Z"
    },
    "executionInfo": {
     "elapsed": 283,
     "status": "ok",
     "timestamp": 1695782500454,
     "user": {
      "displayName": "­김정현",
      "userId": "07015025296255556159"
     },
     "user_tz": -540
    },
    "id": "fd47157c62ee3ea3"
   },
   "outputs": [],
   "source": [
    "# RMSE 계측\n",
    "\n",
    "from sklearn.metrics import mean_squared_error\n",
    "\n",
    "def calculate_rmse(y_test, y_pred):\n",
    "\n",
    "    return np.sqrt(mean_squared_error(np.expm1(y_test), np.expm1(y_pred)))"
   ]
  },
  {
   "cell_type": "code",
   "execution_count": 10,
   "id": "d9a561b6",
   "metadata": {
    "executionInfo": {
     "elapsed": 469,
     "status": "ok",
     "timestamp": 1695782502086,
     "user": {
      "displayName": "­김정현",
      "userId": "07015025296255556159"
     },
     "user_tz": -540
    },
    "id": "JFrFEr0waNAN"
   },
   "outputs": [],
   "source": [
    "# 모델 훈련 및 점수 도출\n",
    "\n",
    "from sklearn.model_selection import train_test_split\n",
    "from sklearn.metrics import mean_squared_error\n",
    "\n",
    "def get_scores(models, train, y):\n",
    "    df = {}\n",
    "\n",
    "    for model in models:\n",
    "        model_name = model.__class__.__name__\n",
    "\n",
    "        X_train, X_test, y_train, y_test = train_test_split(train, y, random_state=random_state, test_size=0.2)\n",
    "        model.fit(X_train, y_train)\n",
    "        y_pred = model.predict(X_test)\n",
    "\n",
    "        df[model_name] = calculate_rmse(y_test, y_pred)\n",
    "\n",
    "    score_df = pd.DataFrame(df, index=['RMSE']).T.sort_values('RMSE', ascending=False)\n",
    "    return score_df"
   ]
  },
  {
   "cell_type": "code",
   "execution_count": 11,
   "id": "57362059",
   "metadata": {
    "executionInfo": {
     "elapsed": 1,
     "status": "ok",
     "timestamp": 1695782503541,
     "user": {
      "displayName": "­김정현",
      "userId": "07015025296255556159"
     },
     "user_tz": -540
    },
    "id": "s2424jbraOS8"
   },
   "outputs": [],
   "source": [
    "# 하이퍼 파라미터 조정 및 재훈련\n",
    "\n",
    "from sklearn.model_selection import GridSearchCV\n",
    "\n",
    "def my_GridSearch(model, train, y, param_grid, verbose=2, n_jobs=5):\n",
    "    # 1. GridSearchCV 모델로 model을 초기화합니다.\n",
    "    grid_model = GridSearchCV(model, param_grid=param_grid,\n",
    "                              scoring='neg_mean_squared_error',\n",
    "                              cv=5, verbose=verbose, n_jobs=n_jobs)\n",
    "\n",
    "    # 2. 모델을 fitting 합니다.\n",
    "    grid_model.fit(train, y)\n",
    "\n",
    "    # 3. params, score에 각 조합에 대한 결과를 저장합니다.\n",
    "    params = grid_model.cv_results_['params']\n",
    "    score = grid_model.cv_results_['mean_test_score']\n",
    "\n",
    "    # 4. 데이터 프레임을 생성하고, RMSLE 값을 추가한 후 점수가 높은 순서로 정렬한 results를 반환합니다.\n",
    "    results = pd.DataFrame(params)\n",
    "    results['score'] = score\n",
    "    results['RMSLE'] = np.sqrt(-1 * results['score'])\n",
    "    results = results.sort_values(by='RMSLE')\n",
    "\n",
    "    return results\n"
   ]
  },
  {
   "cell_type": "code",
   "execution_count": 12,
   "id": "f216eb1a",
   "metadata": {
    "executionInfo": {
     "elapsed": 281,
     "status": "ok",
     "timestamp": 1695782505013,
     "user": {
      "displayName": "­김정현",
      "userId": "07015025296255556159"
     },
     "user_tz": -540
    },
    "id": "IiSbsLggaqZF"
   },
   "outputs": [],
   "source": [
    "# 제출용 파일 저장\n",
    "\n",
    "def save_submission(model, train, y, test, model_name, rmsle=None):\n",
    "    model.fit(train, y)\n",
    "    prediction = model.predict(test)\n",
    "    prediction = np.expm1(prediction)\n",
    "    data_dir = '/content/drive/MyDrive/Colab Notebooks/AIFFEL_Research_6th/exp03_04_project'\n",
    "    submission = pd.read_csv('/content/drive/MyDrive/Colab Notebooks/AIFFEL_Research_6th/exp03_04_project/baseline_kernel/data/sample_submission.csv')\n",
    "    submission['price'] = prediction\n",
    "    submission_csv_path = '{}/submission_{}_RMSLE_{}.csv'.format(data_dir, model_name, rmsle)\n",
    "    submission.to_csv(submission_csv_path, index=False)\n",
    "    print('{} saved!'.format(submission_csv_path))\n"
   ]
  },
  {
   "cell_type": "markdown",
   "id": "7ee9228e",
   "metadata": {
    "id": "W67kSQa-aeka"
   },
   "source": [
    "# 모델 생성 및 훈련"
   ]
  },
  {
   "cell_type": "code",
   "execution_count": 13,
   "id": "7f1af845",
   "metadata": {
    "ExecuteTime": {
     "end_time": "2023-09-26T08:32:44.130212Z",
     "start_time": "2023-09-26T08:32:44.123080Z"
    },
    "colab": {
     "base_uri": "https://localhost:8080/",
     "height": 282
    },
    "executionInfo": {
     "elapsed": 19695,
     "status": "ok",
     "timestamp": 1695782535663,
     "user": {
      "displayName": "­김정현",
      "userId": "07015025296255556159"
     },
     "user_tz": -540
    },
    "id": "62283bda325a0392",
    "outputId": "ef6b9d68-83e7-4e43-a972-27a6c71e39be"
   },
   "outputs": [
    {
     "name": "stdout",
     "output_type": "stream",
     "text": [
      "[LightGBM] [Warning] Auto-choosing row-wise multi-threading, the overhead of testing was 0.002121 seconds.\n",
      "You can set `force_row_wise=true` to remove the overhead.\n",
      "And if memory is not enough, you can set `force_col_wise=true`.\n",
      "[LightGBM] [Info] Total Bins 2226\n",
      "[LightGBM] [Info] Number of data points in the train set: 12028, number of used features: 18\n",
      "[LightGBM] [Info] Start training from score 13.048464\n"
     ]
    },
    {
     "data": {
      "text/html": [
       "\n",
       "  <div id=\"df-118389a1-dd17-4f8d-b172-dc1c083b270c\" class=\"colab-df-container\">\n",
       "    <div>\n",
       "<style scoped>\n",
       "    .dataframe tbody tr th:only-of-type {\n",
       "        vertical-align: middle;\n",
       "    }\n",
       "\n",
       "    .dataframe tbody tr th {\n",
       "        vertical-align: top;\n",
       "    }\n",
       "\n",
       "    .dataframe thead th {\n",
       "        text-align: right;\n",
       "    }\n",
       "</style>\n",
       "<table border=\"1\" class=\"dataframe\">\n",
       "  <thead>\n",
       "    <tr style=\"text-align: right;\">\n",
       "      <th></th>\n",
       "      <th>RMSE</th>\n",
       "    </tr>\n",
       "  </thead>\n",
       "  <tbody>\n",
       "    <tr>\n",
       "      <th>XGBRegressor</th>\n",
       "      <td>154507.031196</td>\n",
       "    </tr>\n",
       "    <tr>\n",
       "      <th>LGBMRegressor</th>\n",
       "      <td>153612.578153</td>\n",
       "    </tr>\n",
       "    <tr>\n",
       "      <th>GradientBoostingRegressor</th>\n",
       "      <td>151996.434932</td>\n",
       "    </tr>\n",
       "    <tr>\n",
       "      <th>RandomForestRegressor</th>\n",
       "      <td>149698.168923</td>\n",
       "    </tr>\n",
       "  </tbody>\n",
       "</table>\n",
       "</div>\n",
       "    <div class=\"colab-df-buttons\">\n",
       "\n",
       "  <div class=\"colab-df-container\">\n",
       "    <button class=\"colab-df-convert\" onclick=\"convertToInteractive('df-118389a1-dd17-4f8d-b172-dc1c083b270c')\"\n",
       "            title=\"Convert this dataframe to an interactive table.\"\n",
       "            style=\"display:none;\">\n",
       "\n",
       "  <svg xmlns=\"http://www.w3.org/2000/svg\" height=\"24px\" viewBox=\"0 -960 960 960\">\n",
       "    <path d=\"M120-120v-720h720v720H120Zm60-500h600v-160H180v160Zm220 220h160v-160H400v160Zm0 220h160v-160H400v160ZM180-400h160v-160H180v160Zm440 0h160v-160H620v160ZM180-180h160v-160H180v160Zm440 0h160v-160H620v160Z\"/>\n",
       "  </svg>\n",
       "    </button>\n",
       "\n",
       "  <style>\n",
       "    .colab-df-container {\n",
       "      display:flex;\n",
       "      gap: 12px;\n",
       "    }\n",
       "\n",
       "    .colab-df-convert {\n",
       "      background-color: #E8F0FE;\n",
       "      border: none;\n",
       "      border-radius: 50%;\n",
       "      cursor: pointer;\n",
       "      display: none;\n",
       "      fill: #1967D2;\n",
       "      height: 32px;\n",
       "      padding: 0 0 0 0;\n",
       "      width: 32px;\n",
       "    }\n",
       "\n",
       "    .colab-df-convert:hover {\n",
       "      background-color: #E2EBFA;\n",
       "      box-shadow: 0px 1px 2px rgba(60, 64, 67, 0.3), 0px 1px 3px 1px rgba(60, 64, 67, 0.15);\n",
       "      fill: #174EA6;\n",
       "    }\n",
       "\n",
       "    .colab-df-buttons div {\n",
       "      margin-bottom: 4px;\n",
       "    }\n",
       "\n",
       "    [theme=dark] .colab-df-convert {\n",
       "      background-color: #3B4455;\n",
       "      fill: #D2E3FC;\n",
       "    }\n",
       "\n",
       "    [theme=dark] .colab-df-convert:hover {\n",
       "      background-color: #434B5C;\n",
       "      box-shadow: 0px 1px 3px 1px rgba(0, 0, 0, 0.15);\n",
       "      filter: drop-shadow(0px 1px 2px rgba(0, 0, 0, 0.3));\n",
       "      fill: #FFFFFF;\n",
       "    }\n",
       "  </style>\n",
       "\n",
       "    <script>\n",
       "      const buttonEl =\n",
       "        document.querySelector('#df-118389a1-dd17-4f8d-b172-dc1c083b270c button.colab-df-convert');\n",
       "      buttonEl.style.display =\n",
       "        google.colab.kernel.accessAllowed ? 'block' : 'none';\n",
       "\n",
       "      async function convertToInteractive(key) {\n",
       "        const element = document.querySelector('#df-118389a1-dd17-4f8d-b172-dc1c083b270c');\n",
       "        const dataTable =\n",
       "          await google.colab.kernel.invokeFunction('convertToInteractive',\n",
       "                                                    [key], {});\n",
       "        if (!dataTable) return;\n",
       "\n",
       "        const docLinkHtml = 'Like what you see? Visit the ' +\n",
       "          '<a target=\"_blank\" href=https://colab.research.google.com/notebooks/data_table.ipynb>data table notebook</a>'\n",
       "          + ' to learn more about interactive tables.';\n",
       "        element.innerHTML = '';\n",
       "        dataTable['output_type'] = 'display_data';\n",
       "        await google.colab.output.renderOutput(dataTable, element);\n",
       "        const docLink = document.createElement('div');\n",
       "        docLink.innerHTML = docLinkHtml;\n",
       "        element.appendChild(docLink);\n",
       "      }\n",
       "    </script>\n",
       "  </div>\n",
       "\n",
       "\n",
       "<div id=\"df-652f2921-ea97-4fe9-a486-79fbea43b72e\">\n",
       "  <button class=\"colab-df-quickchart\" onclick=\"quickchart('df-652f2921-ea97-4fe9-a486-79fbea43b72e')\"\n",
       "            title=\"Suggest charts.\"\n",
       "            style=\"display:none;\">\n",
       "\n",
       "<svg xmlns=\"http://www.w3.org/2000/svg\" height=\"24px\"viewBox=\"0 0 24 24\"\n",
       "     width=\"24px\">\n",
       "    <g>\n",
       "        <path d=\"M19 3H5c-1.1 0-2 .9-2 2v14c0 1.1.9 2 2 2h14c1.1 0 2-.9 2-2V5c0-1.1-.9-2-2-2zM9 17H7v-7h2v7zm4 0h-2V7h2v10zm4 0h-2v-4h2v4z\"/>\n",
       "    </g>\n",
       "</svg>\n",
       "  </button>\n",
       "\n",
       "<style>\n",
       "  .colab-df-quickchart {\n",
       "      --bg-color: #E8F0FE;\n",
       "      --fill-color: #1967D2;\n",
       "      --hover-bg-color: #E2EBFA;\n",
       "      --hover-fill-color: #174EA6;\n",
       "      --disabled-fill-color: #AAA;\n",
       "      --disabled-bg-color: #DDD;\n",
       "  }\n",
       "\n",
       "  [theme=dark] .colab-df-quickchart {\n",
       "      --bg-color: #3B4455;\n",
       "      --fill-color: #D2E3FC;\n",
       "      --hover-bg-color: #434B5C;\n",
       "      --hover-fill-color: #FFFFFF;\n",
       "      --disabled-bg-color: #3B4455;\n",
       "      --disabled-fill-color: #666;\n",
       "  }\n",
       "\n",
       "  .colab-df-quickchart {\n",
       "    background-color: var(--bg-color);\n",
       "    border: none;\n",
       "    border-radius: 50%;\n",
       "    cursor: pointer;\n",
       "    display: none;\n",
       "    fill: var(--fill-color);\n",
       "    height: 32px;\n",
       "    padding: 0;\n",
       "    width: 32px;\n",
       "  }\n",
       "\n",
       "  .colab-df-quickchart:hover {\n",
       "    background-color: var(--hover-bg-color);\n",
       "    box-shadow: 0 1px 2px rgba(60, 64, 67, 0.3), 0 1px 3px 1px rgba(60, 64, 67, 0.15);\n",
       "    fill: var(--button-hover-fill-color);\n",
       "  }\n",
       "\n",
       "  .colab-df-quickchart-complete:disabled,\n",
       "  .colab-df-quickchart-complete:disabled:hover {\n",
       "    background-color: var(--disabled-bg-color);\n",
       "    fill: var(--disabled-fill-color);\n",
       "    box-shadow: none;\n",
       "  }\n",
       "\n",
       "  .colab-df-spinner {\n",
       "    border: 2px solid var(--fill-color);\n",
       "    border-color: transparent;\n",
       "    border-bottom-color: var(--fill-color);\n",
       "    animation:\n",
       "      spin 1s steps(1) infinite;\n",
       "  }\n",
       "\n",
       "  @keyframes spin {\n",
       "    0% {\n",
       "      border-color: transparent;\n",
       "      border-bottom-color: var(--fill-color);\n",
       "      border-left-color: var(--fill-color);\n",
       "    }\n",
       "    20% {\n",
       "      border-color: transparent;\n",
       "      border-left-color: var(--fill-color);\n",
       "      border-top-color: var(--fill-color);\n",
       "    }\n",
       "    30% {\n",
       "      border-color: transparent;\n",
       "      border-left-color: var(--fill-color);\n",
       "      border-top-color: var(--fill-color);\n",
       "      border-right-color: var(--fill-color);\n",
       "    }\n",
       "    40% {\n",
       "      border-color: transparent;\n",
       "      border-right-color: var(--fill-color);\n",
       "      border-top-color: var(--fill-color);\n",
       "    }\n",
       "    60% {\n",
       "      border-color: transparent;\n",
       "      border-right-color: var(--fill-color);\n",
       "    }\n",
       "    80% {\n",
       "      border-color: transparent;\n",
       "      border-right-color: var(--fill-color);\n",
       "      border-bottom-color: var(--fill-color);\n",
       "    }\n",
       "    90% {\n",
       "      border-color: transparent;\n",
       "      border-bottom-color: var(--fill-color);\n",
       "    }\n",
       "  }\n",
       "</style>\n",
       "\n",
       "  <script>\n",
       "    async function quickchart(key) {\n",
       "      const quickchartButtonEl =\n",
       "        document.querySelector('#' + key + ' button');\n",
       "      quickchartButtonEl.disabled = true;  // To prevent multiple clicks.\n",
       "      quickchartButtonEl.classList.add('colab-df-spinner');\n",
       "      try {\n",
       "        const charts = await google.colab.kernel.invokeFunction(\n",
       "            'suggestCharts', [key], {});\n",
       "      } catch (error) {\n",
       "        console.error('Error during call to suggestCharts:', error);\n",
       "      }\n",
       "      quickchartButtonEl.classList.remove('colab-df-spinner');\n",
       "      quickchartButtonEl.classList.add('colab-df-quickchart-complete');\n",
       "    }\n",
       "    (() => {\n",
       "      let quickchartButtonEl =\n",
       "        document.querySelector('#df-652f2921-ea97-4fe9-a486-79fbea43b72e button');\n",
       "      quickchartButtonEl.style.display =\n",
       "        google.colab.kernel.accessAllowed ? 'block' : 'none';\n",
       "    })();\n",
       "  </script>\n",
       "</div>\n",
       "    </div>\n",
       "  </div>\n"
      ],
      "text/plain": [
       "                                    RMSE\n",
       "XGBRegressor               154507.031196\n",
       "LGBMRegressor              153612.578153\n",
       "GradientBoostingRegressor  151996.434932\n",
       "RandomForestRegressor      149698.168923"
      ]
     },
     "execution_count": 13,
     "metadata": {},
     "output_type": "execute_result"
    }
   ],
   "source": [
    "from xgboost import XGBRegressor\n",
    "from lightgbm import LGBMRegressor\n",
    "from sklearn.ensemble import GradientBoostingRegressor, RandomForestRegressor\n",
    "\n",
    "random_state=2030\n",
    "\n",
    "gboost = GradientBoostingRegressor(random_state=random_state)\n",
    "xgboost = XGBRegressor(random_state=random_state)\n",
    "lightgbm = LGBMRegressor(random_state=random_state)\n",
    "rdforest = RandomForestRegressor(random_state=random_state)\n",
    "\n",
    "models = [gboost, xgboost, lightgbm, rdforest]\n",
    "get_scores(models, train, y)"
   ]
  },
  {
   "cell_type": "markdown",
   "id": "e96ffe41",
   "metadata": {
    "id": "CeZ4wcTqamRx"
   },
   "source": [
    "# 하이퍼 파라미터 조정, 튜닝"
   ]
  },
  {
   "cell_type": "code",
   "execution_count": 14,
   "id": "94051d64",
   "metadata": {
    "ExecuteTime": {
     "end_time": "2023-09-26T09:26:30.772095Z",
     "start_time": "2023-09-26T09:26:25.749982Z"
    },
    "colab": {
     "base_uri": "https://localhost:8080/"
    },
    "executionInfo": {
     "elapsed": 25554,
     "status": "ok",
     "timestamp": 1695782563139,
     "user": {
      "displayName": "­김정현",
      "userId": "07015025296255556159"
     },
     "user_tz": -540
    },
    "id": "3abbf4228b1f514",
    "outputId": "70db4c76-5a1c-4f31-c9ad-d00be31f4310"
   },
   "outputs": [
    {
     "name": "stdout",
     "output_type": "stream",
     "text": [
      "Fitting 5 folds for each of 9 candidates, totalling 45 fits\n",
      "[LightGBM] [Warning] Accuracy may be bad since you didn't explicitly set num_leaves OR 2^max_depth > num_leaves. (num_leaves=31).\n",
      "[LightGBM] [Warning] Accuracy may be bad since you didn't explicitly set num_leaves OR 2^max_depth > num_leaves. (num_leaves=31).\n",
      "[LightGBM] [Warning] Auto-choosing row-wise multi-threading, the overhead of testing was 0.002475 seconds.\n",
      "You can set `force_row_wise=true` to remove the overhead.\n",
      "And if memory is not enough, you can set `force_col_wise=true`.\n",
      "[LightGBM] [Info] Total Bins 2267\n",
      "[LightGBM] [Info] Number of data points in the train set: 15035, number of used features: 18\n",
      "[LightGBM] [Info] Start training from score 13.048122\n"
     ]
    }
   ],
   "source": [
    "# LGBMRegressor\n",
    "\n",
    "param_grid = {\n",
    "    'n_estimators': [50, 100, 200],\n",
    "    'max_depth': [1, 10, 20]\n",
    "}\n",
    "\n",
    "model = LGBMRegressor(random_state=random_state)\n",
    "results = my_GridSearch(model, train, y, param_grid, verbose=2, n_jobs=5)"
   ]
  },
  {
   "cell_type": "code",
   "execution_count": 15,
   "id": "bcc023cf",
   "metadata": {
    "colab": {
     "base_uri": "https://localhost:8080/",
     "height": 564
    },
    "executionInfo": {
     "elapsed": 536,
     "status": "ok",
     "timestamp": 1695782570106,
     "user": {
      "displayName": "­김정현",
      "userId": "07015025296255556159"
     },
     "user_tz": -540
    },
    "id": "hI83dW72hD49",
    "outputId": "a9456908-1057-45a5-b2ee-6569c73be9c2"
   },
   "outputs": [
    {
     "data": {
      "image/png": "[encoded data removed]",
      "text/plain": [
       "<Figure size 1200x600 with 1 Axes>"
      ]
     },
     "metadata": {},
     "output_type": "display_data"
    }
   ],
   "source": [
    "import matplotlib.pyplot as plt\n",
    "\n",
    "# Plotting\n",
    "plt.figure(figsize=(12, 6))\n",
    "plt.plot(results.index, results['RMSLE'], marker='o')\n",
    "plt.xlabel('Trial')\n",
    "plt.ylabel('RMSLE')\n",
    "plt.title('RMSLE per Trial')\n",
    "plt.grid(True)\n",
    "plt.show()\n"
   ]
  },
  {
   "cell_type": "code",
   "execution_count": 18,
   "id": "6f5ada6f",
   "metadata": {
    "colab": {
     "base_uri": "https://localhost:8080/"
    },
    "executionInfo": {
     "elapsed": 133746,
     "status": "ok",
     "timestamp": 1695783147407,
     "user": {
      "displayName": "­김정현",
      "userId": "07015025296255556159"
     },
     "user_tz": -540
    },
    "id": "tqevmoHIhmio",
    "outputId": "0ff8d6f9-482c-4673-a301-94ff038711cf"
   },
   "outputs": [
    {
     "name": "stdout",
     "output_type": "stream",
     "text": [
      "Fitting 5 folds for each of 4 candidates, totalling 20 fits\n"
     ]
    }
   ],
   "source": [
    "# RandomForestRegressor\n",
    "\n",
    "param_grid = {\n",
    "    'n_estimators': [50, 100],\n",
    "    'max_depth': [10, 20]\n",
    "}\n",
    "\n",
    "model = RandomForestRegressor(random_state=random_state)\n",
    "results = my_GridSearch(model, train, y, param_grid, verbose=2, n_jobs=5)"
   ]
  },
  {
   "cell_type": "code",
   "execution_count": 19,
   "id": "18900277",
   "metadata": {
    "colab": {
     "base_uri": "https://localhost:8080/",
     "height": 564
    },
    "executionInfo": {
     "elapsed": 458,
     "status": "ok",
     "timestamp": 1695783152563,
     "user": {
      "displayName": "­김정현",
      "userId": "07015025296255556159"
     },
     "user_tz": -540
    },
    "id": "Y1FTia2bhuJa",
    "outputId": "50bcd4d6-71a9-4e55-e0ac-48545a1e6b97"
   },
   "outputs": [
    {
     "data": {
      "image/png": "[encoded data removed]",
      "text/plain": [
       "<Figure size 1200x600 with 1 Axes>"
      ]
     },
     "metadata": {},
     "output_type": "display_data"
    }
   ],
   "source": [
    "import matplotlib.pyplot as plt\n",
    "\n",
    "# Plotting\n",
    "plt.figure(figsize=(12, 6))\n",
    "plt.plot(results.index, results['RMSLE'], marker='o')\n",
    "plt.xlabel('Trial')\n",
    "plt.ylabel('RMSLE')\n",
    "plt.title('RMSLE per Trial')\n",
    "plt.grid(True)\n",
    "plt.show()\n"
   ]
  },
  {
   "cell_type": "markdown",
   "id": "9eccab00",
   "metadata": {
    "id": "1364ea04d88f9aa6"
   },
   "source": [
    "## 제출을 위한 파일 저장"
   ]
  },
  {
   "cell_type": "code",
   "execution_count": 20,
   "id": "ab4cd1f7",
   "metadata": {
    "colab": {
     "base_uri": "https://localhost:8080/"
    },
    "executionInfo": {
     "elapsed": 16168,
     "status": "ok",
     "timestamp": 1695783180854,
     "user": {
      "displayName": "­김정현",
      "userId": "07015025296255556159"
     },
     "user_tz": -540
    },
    "id": "efc3a67f50012241",
    "outputId": "095104d3-c2b4-4067-bba9-c05779025e0c"
   },
   "outputs": [
    {
     "name": "stdout",
     "output_type": "stream",
     "text": [
      "/content/drive/MyDrive/Colab Notebooks/AIFFEL_Research_6th/exp03_04_project/submission_RFR_RMSLE_149698.csv saved!\n"
     ]
    }
   ],
   "source": [
    "save_submission(model, train, y, test, 'RFR', '149698')"
   ]
  },
  {
   "cell_type": "markdown",
   "id": "38e0ca2a",
   "metadata": {
    "id": "_o1NCwcTjtCr"
   },
   "source": [
    "![스크린샷 2023-09-27 오전 11.54.32.png](data:image/png;base64,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)"
   ]
  }
 ],
 "metadata": {
  "colab": {
   "provenance": []
  },
  "kernelspec": {
   "display_name": "Python 3 (ipykernel)",
   "language": "python",
   "name": "python3"
  },
  "language_info": {
   "codemirror_mode": {
    "name": "ipython",
    "version": 3
   },
   "file_extension": ".py",
   "mimetype": "text/x-python",
   "name": "python",
   "nbconvert_exporter": "python",
   "pygments_lexer": "ipython3",
   "version": "3.9.7"
  }
 },
 "nbformat": 4,
 "nbformat_minor": 5
}
